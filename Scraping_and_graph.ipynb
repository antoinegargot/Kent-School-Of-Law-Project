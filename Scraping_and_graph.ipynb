{
 "cells": [
  {
   "cell_type": "markdown",
   "metadata": {},
   "source": [
    "# Work on citation scraping for each opinions and try to create clusters of opinions based on spectral analysis of an opinions graph"
   ]
  },
  {
   "cell_type": "code",
   "execution_count": 1,
   "metadata": {
    "ExecuteTime": {
     "end_time": "2018-04-24T02:38:14.474439Z",
     "start_time": "2018-04-24T02:38:11.498563Z"
    }
   },
   "outputs": [],
   "source": [
    "from bs4 import BeautifulSoup\n",
    "import pandas\n",
    "import numpy as np\n",
    "import matplotlib as mlp\n",
    "import matplotlib.pyplot as plt\n",
    "import matplotlib.colors\n",
    "import networkx as nx\n",
    "from numpy.linalg import eigh\n",
    "from sklearn.datasets import make_blobs\n",
    "from sklearn.cluster import KMeans\n",
    "from sklearn.metrics import silhouette_samples, silhouette_score"
   ]
  },
  {
   "cell_type": "markdown",
   "metadata": {},
   "source": [
    "### Import the opinions sample"
   ]
  },
  {
   "cell_type": "code",
   "execution_count": 2,
   "metadata": {
    "ExecuteTime": {
     "end_time": "2018-04-24T02:38:17.650666Z",
     "start_time": "2018-04-24T02:38:15.497173Z"
    },
    "scrolled": true
   },
   "outputs": [
    {
     "name": "stdout",
     "output_type": "stream",
     "text": [
      "['absolute_url', 'author', 'author_str', 'cluster', 'date_created', 'date_modified', 'download_url', 'extracted_by_ocr', 'html', 'html_lawbox', 'html_with_citations', 'joined_by', 'local_path', 'opinions_cited', 'per_curiam', 'plain_text', 'resource_uri']\n"
     ]
    }
   ],
   "source": [
    "opinions = pandas.read_csv(\"opinions_sample.csv\", sep=\";\")\n",
    "print(list(opinions))"
   ]
  },
  {
   "cell_type": "code",
   "execution_count": 3,
   "metadata": {
    "ExecuteTime": {
     "end_time": "2018-04-24T02:38:17.956826Z",
     "start_time": "2018-04-24T02:38:17.940945Z"
    }
   },
   "outputs": [
    {
     "data": {
      "text/plain": [
       "'<p class=\"case_cite\">544 U.S. 917</p>\\n    <p class=\"parties\">BERWICK<br><i>v.</i><br>UNITED STATES.</p>\\n    <p class=\"docket\">No. 04-8529.</p>\\n    <p class=\"court\">Supreme Court of United States.</p>\\n    <p class=\"date\">March 21, 2005.</p>\\n    <div class=\"num\" id=\"p1\">\\n      <span class=\"num\">1</span>\\n      <p class=\"indent\">C. A. 2d Cir. Reported below: 107 Fed. Appx. 253. Motions of petitioners for leave to proceed <i>in forma pauperis</i> granted. Certiorari granted, judgments vacated, and cases remanded for further consideration in light of <i>United States</i> v. <i>Booker,</i> 543 U. S. 220 (2005).</p>\\n    </div>\\n    '"
      ]
     },
     "execution_count": 3,
     "metadata": {},
     "output_type": "execute_result"
    }
   ],
   "source": [
    "opinions.html[0]"
   ]
  },
  {
   "cell_type": "code",
   "execution_count": 4,
   "metadata": {
    "ExecuteTime": {
     "end_time": "2018-04-24T02:38:18.246907Z",
     "start_time": "2018-04-24T02:38:18.239274Z"
    }
   },
   "outputs": [],
   "source": [
    "columns = ['case_cite','parties','docket','court','date','intent']\n",
    "extracted_data = pandas.DataFrame(columns=columns)"
   ]
  },
  {
   "cell_type": "markdown",
   "metadata": {},
   "source": [
    "### Extract ids for each opinions"
   ]
  },
  {
   "cell_type": "code",
   "execution_count": 5,
   "metadata": {
    "ExecuteTime": {
     "end_time": "2018-04-24T02:38:21.968690Z",
     "start_time": "2018-04-24T02:38:21.929089Z"
    }
   },
   "outputs": [],
   "source": [
    "extraction = opinions.absolute_url.str.split('/',expand = True)\n",
    "extracted_id = extraction[extraction.columns[2]]"
   ]
  },
  {
   "cell_type": "markdown",
   "metadata": {},
   "source": [
    "### Scrap the HTML for each opinions in order to create a new data frame based on HTML class"
   ]
  },
  {
   "cell_type": "code",
   "execution_count": 6,
   "metadata": {
    "ExecuteTime": {
     "end_time": "2018-04-24T02:39:48.146395Z",
     "start_time": "2018-04-24T02:38:24.239708Z"
    }
   },
   "outputs": [],
   "source": [
    "missing_html=[]\n",
    "for i in range(len(opinions.html)):\n",
    "    case_cite, parties, docket, court, date, indent = (list(),)*6\n",
    "    try:\n",
    "        soup = BeautifulSoup(opinions.html[i],\"html.parser\")\n",
    "        try:\n",
    "            case_cite = soup.findAll(\"p\", {\"class\": \"case_cite\"})\n",
    "        except:\n",
    "            print(\"No Case Cite\")\n",
    "        try:\n",
    "            parties = soup.findAll(\"p\", {\"class\": \"parties\"})\n",
    "        except:\n",
    "            print(\"No parties\")\n",
    "        try:\n",
    "            docket = soup.findAll(\"p\", {\"class\": \"docket\"})\n",
    "        except:\n",
    "            print(\"No docket\")\n",
    "        try:\n",
    "            court = soup.findAll(\"p\", {\"class\": \"court\"})\n",
    "        except:\n",
    "            print(\"No court\")\n",
    "        try:\n",
    "            date = soup.findAll(\"p\", {\"class\": \"date\"})\n",
    "        except:\n",
    "            print(\"No date\")\n",
    "        try:\n",
    "            indent = soup.findAll(\"p\", {\"class\": \"indent\"})\n",
    "        except:\n",
    "            print(\"No indent\")\n",
    "        extracted_data.loc[i] = [[obs.get_text() for obs in case_cite],[obs.get_text() for obs in parties],[obs.get_text() for obs in docket],[obs.get_text() for obs in court],[obs.get_text() for obs in date],[obs.get_text() for obs in indent]]\n",
    "    except:\n",
    "        missing_html.append(i)"
   ]
  },
  {
   "cell_type": "markdown",
   "metadata": {},
   "source": [
    "### Assign the ID for each observation"
   ]
  },
  {
   "cell_type": "code",
   "execution_count": 9,
   "metadata": {
    "ExecuteTime": {
     "end_time": "2018-04-24T02:40:30.499917Z",
     "start_time": "2018-04-24T02:40:30.457934Z"
    }
   },
   "outputs": [],
   "source": [
    "extracted_data = extracted_data.assign(id = extracted_id)\n",
    "extracted_data.head()\n",
    "extracted_data.case_cite = [[id.split()[0] for id in case] for case in extracted_data.case_cite]"
   ]
  },
  {
   "cell_type": "code",
   "execution_count": null,
   "metadata": {
    "ExecuteTime": {
     "end_time": "2018-04-24T02:35:05.805404Z",
     "start_time": "2018-04-24T02:35:05.776111Z"
    }
   },
   "outputs": [],
   "source": []
  },
  {
   "cell_type": "markdown",
   "metadata": {},
   "source": [
    "### Create a sub dataframe with id and case cited"
   ]
  },
  {
   "cell_type": "code",
   "execution_count": null,
   "metadata": {
    "ExecuteTime": {
     "end_time": "2018-04-24T01:03:32.555040Z",
     "start_time": "2018-04-24T01:03:31.891613Z"
    }
   },
   "outputs": [],
   "source": [
    "int_list = []\n",
    "for index, element in extracted_data.iterrows():\n",
    "    try :\n",
    "        int_list.append(list(map(int, element.case_cite)))\n",
    "    except:\n",
    "        int_list.append([])\n",
    "extracted_data.case_cite = int_list\n",
    "case_relation = pandas.concat([extracted_data.id, extracted_data.case_cite], axis = 1)"
   ]
  },
  {
   "cell_type": "code",
   "execution_count": null,
   "metadata": {
    "ExecuteTime": {
     "end_time": "2018-04-24T01:46:51.425900Z",
     "start_time": "2018-04-24T01:46:51.408362Z"
    },
    "scrolled": true
   },
   "outputs": [],
   "source": [
    "case_relation[:10]"
   ]
  },
  {
   "cell_type": "markdown",
   "metadata": {},
   "source": [
    "### Create a graph based on relation between cases"
   ]
  },
  {
   "cell_type": "code",
   "execution_count": null,
   "metadata": {
    "ExecuteTime": {
     "end_time": "2018-04-24T01:03:50.802168Z",
     "start_time": "2018-04-24T01:03:50.017968Z"
    }
   },
   "outputs": [],
   "source": [
    "case_cite_graph = nx.DiGraph()\n",
    "\n",
    "for index, element in case_relation.iterrows():\n",
    "    case_cite_graph.add_node(element.id, attr_dict={\"is_case\": True})\n",
    "    for link in element.case_cite:\n",
    "        case_cite_graph.add_node(link, attr_dict={\"is_case\": False})\n",
    "        case_cite_graph.add_edge(element.id, link)"
   ]
  },
  {
   "cell_type": "code",
   "execution_count": null,
   "metadata": {
    "ExecuteTime": {
     "end_time": "2018-04-24T01:03:51.308728Z",
     "start_time": "2018-04-24T01:03:51.219350Z"
    }
   },
   "outputs": [],
   "source": [
    "%matplotlib inline\n",
    "plt.figure(figsize=(40,40))\n",
    "colors = ['r' if case_cite_graph.node[n]['is_case'] else 'b' for n in case_cite_graph]\n",
    "nx.draw_networkx(case_cite_graph, node_size=80, pos = nx.spring_layout(case_cite_graph), node_color=colors, linewidths=0, width=0.1, with_labels = False)\n",
    "plt.axis('off')"
   ]
  },
  {
   "cell_type": "markdown",
   "metadata": {},
   "source": [
    "### Centrality computation of graph"
   ]
  },
  {
   "cell_type": "code",
   "execution_count": null,
   "metadata": {
    "ExecuteTime": {
     "end_time": "2018-04-24T01:38:40.954886Z",
     "start_time": "2018-04-24T01:38:40.939385Z"
    }
   },
   "outputs": [],
   "source": [
    "from collections import Counter"
   ]
  },
  {
   "cell_type": "code",
   "execution_count": null,
   "metadata": {
    "ExecuteTime": {
     "end_time": "2018-04-24T02:21:50.517252Z",
     "start_time": "2018-04-24T02:21:50.407762Z"
    }
   },
   "outputs": [],
   "source": [
    "stats = nx.closeness_centrality(case_cite_graph)\n",
    "closness = Counter(stats).most_common()[:3]\n",
    "print(closness)"
   ]
  },
  {
   "cell_type": "code",
   "execution_count": null,
   "metadata": {
    "ExecuteTime": {
     "end_time": "2018-04-24T02:21:52.000831Z",
     "start_time": "2018-04-24T02:21:51.989348Z"
    }
   },
   "outputs": [],
   "source": [
    "stats = nx.in_degree_centrality(case_cite_graph)\n",
    "in_degree = Counter(stats).most_common()[:3]\n",
    "print(in_degree)"
   ]
  },
  {
   "cell_type": "code",
   "execution_count": null,
   "metadata": {
    "ExecuteTime": {
     "end_time": "2018-04-24T02:00:59.362404Z",
     "start_time": "2018-04-24T02:00:59.321124Z"
    }
   },
   "outputs": [],
   "source": [
    "stats = nx.out_degree_centrality(case_cite_graph)\n",
    "out_degree = Counter(stats).most_common()[:3]\n",
    "print(out_degree)"
   ]
  },
  {
   "cell_type": "code",
   "execution_count": null,
   "metadata": {},
   "outputs": [],
   "source": []
  },
  {
   "cell_type": "markdown",
   "metadata": {},
   "source": [
    "### Laplacian matrix and spectral clustering of the graph"
   ]
  },
  {
   "cell_type": "code",
   "execution_count": null,
   "metadata": {
    "ExecuteTime": {
     "end_time": "2018-04-24T02:00:47.573357Z",
     "start_time": "2018-04-24T02:00:40.989054Z"
    }
   },
   "outputs": [],
   "source": [
    "laplacian = nx.directed_laplacian_matrix(case_cite_graph)"
   ]
  },
  {
   "cell_type": "code",
   "execution_count": null,
   "metadata": {
    "ExecuteTime": {
     "end_time": "2018-04-10T00:56:28.184532Z",
     "start_time": "2018-04-10T00:56:00.264972Z"
    }
   },
   "outputs": [],
   "source": [
    "eig_vals, eig_vectors = eigh(laplacian.A)"
   ]
  },
  {
   "cell_type": "code",
   "execution_count": null,
   "metadata": {
    "ExecuteTime": {
     "end_time": "2018-04-10T00:56:28.546247Z",
     "start_time": "2018-04-10T00:56:28.338907Z"
    }
   },
   "outputs": [],
   "source": [
    "plt.figure()\n",
    "plt.plot(eig_vectors[:,1], eig_vectors[:,2],'o')\n",
    "plt.xlabel('second eigenvector value')\n",
    "plt.ylabel('third eigenvector value')\n",
    "plt.show()"
   ]
  },
  {
   "cell_type": "code",
   "execution_count": null,
   "metadata": {
    "ExecuteTime": {
     "end_time": "2018-04-10T00:56:28.728652Z",
     "start_time": "2018-04-10T00:56:28.714578Z"
    }
   },
   "outputs": [],
   "source": [
    "X = np.array(list(zip(eig_vectors[:,1], eig_vectors[:,2])))"
   ]
  },
  {
   "cell_type": "markdown",
   "metadata": {},
   "source": [
    "### Eclust analysis of the clustering"
   ]
  },
  {
   "cell_type": "code",
   "execution_count": null,
   "metadata": {
    "ExecuteTime": {
     "end_time": "2018-04-10T00:56:30.502716Z",
     "start_time": "2018-04-10T00:56:28.910732Z"
    },
    "scrolled": false
   },
   "outputs": [],
   "source": [
    "cluster_range = range(1, 20)\n",
    "cluster_errors = []\n",
    "for num_clusters in cluster_range:\n",
    "    kmean = KMeans(num_clusters)\n",
    "    kmean.fit(X)\n",
    "    cluster_errors.append(kmean.inertia_)\n",
    "\n",
    "clusters_df = pandas.DataFrame({ \"num_clusters\":cluster_range, \"cluster_errors\": cluster_errors })\n",
    "plt.figure(figsize=(12,6))\n",
    "plt.plot(clusters_df.num_clusters, clusters_df.cluster_errors, marker = \"o\" )"
   ]
  },
  {
   "cell_type": "code",
   "execution_count": null,
   "metadata": {
    "ExecuteTime": {
     "end_time": "2018-04-10T00:57:01.272083Z",
     "start_time": "2018-04-10T00:57:01.259159Z"
    }
   },
   "outputs": [],
   "source": [
    "clusters_df"
   ]
  },
  {
   "cell_type": "markdown",
   "metadata": {},
   "source": [
    "### Apply K-means to the dataset "
   ]
  },
  {
   "cell_type": "code",
   "execution_count": null,
   "metadata": {
    "ExecuteTime": {
     "end_time": "2018-04-10T00:57:07.660329Z",
     "start_time": "2018-04-10T00:57:07.607493Z"
    }
   },
   "outputs": [],
   "source": [
    "kmeans = KMeans(n_clusters=7)\n",
    "kmeans = kmeans.fit(X)\n",
    "labels = kmeans.predict(X)\n",
    "centroids = kmeans.cluster_centers_\n",
    "labels"
   ]
  },
  {
   "cell_type": "code",
   "execution_count": null,
   "metadata": {
    "ExecuteTime": {
     "end_time": "2018-04-10T00:57:09.933493Z",
     "start_time": "2018-04-10T00:57:09.680904Z"
    }
   },
   "outputs": [],
   "source": [
    "plt.figure(figsize=(10,6))\n",
    "plt.plot(eig_vectors[:,1], eig_vectors[:,2],'o')\n",
    "plt.plot(centroids[:,0], centroids[:,1],'+')\n",
    "plt.xlabel('second eigenvector value')\n",
    "plt.ylabel('third eigenvector value')\n",
    "plt.show()"
   ]
  },
  {
   "cell_type": "code",
   "execution_count": null,
   "metadata": {
    "ExecuteTime": {
     "end_time": "2018-04-10T00:57:12.655304Z",
     "start_time": "2018-04-10T00:57:12.649507Z"
    },
    "scrolled": true
   },
   "outputs": [],
   "source": [
    "print(len(case_cite_graph.nodes()))\n",
    "print(len(labels))"
   ]
  },
  {
   "cell_type": "code",
   "execution_count": null,
   "metadata": {
    "ExecuteTime": {
     "end_time": "2018-04-06T22:09:32.221983Z",
     "start_time": "2018-04-06T22:09:32.216844Z"
    }
   },
   "outputs": [],
   "source": [
    "len(missing_html)"
   ]
  },
  {
   "cell_type": "markdown",
   "metadata": {},
   "source": [
    "### Assign cluster ID to the dataset "
   ]
  },
  {
   "cell_type": "code",
   "execution_count": null,
   "metadata": {
    "ExecuteTime": {
     "end_time": "2018-04-10T01:05:15.202278Z",
     "start_time": "2018-04-10T01:04:40.959753Z"
    },
    "scrolled": false
   },
   "outputs": [],
   "source": [
    "for i in range(len(labels)):\n",
    "    if nodes[i] in list(map(int, case_cite_graph.nodes())):\n",
    "        mask = case_relation.id.astype('int64') == nodes[i]\n",
    "        case_relation.loc[mask, 'cluster_id'] = labels[i]"
   ]
  },
  {
   "cell_type": "code",
   "execution_count": null,
   "metadata": {
    "ExecuteTime": {
     "end_time": "2018-04-10T01:17:34.667041Z",
     "start_time": "2018-04-10T01:17:34.652823Z"
    },
    "scrolled": true
   },
   "outputs": [],
   "source": [
    "case_relation.head()"
   ]
  },
  {
   "cell_type": "code",
   "execution_count": null,
   "metadata": {},
   "outputs": [],
   "source": []
  }
 ],
 "metadata": {
  "kernelspec": {
   "display_name": "Python 3",
   "language": "python",
   "name": "python3"
  },
  "language_info": {
   "codemirror_mode": {
    "name": "ipython",
    "version": 3
   },
   "file_extension": ".py",
   "mimetype": "text/x-python",
   "name": "python",
   "nbconvert_exporter": "python",
   "pygments_lexer": "ipython3",
   "version": "3.6.4"
  },
  "varInspector": {
   "cols": {
    "lenName": 16,
    "lenType": 16,
    "lenVar": 40
   },
   "kernels_config": {
    "python": {
     "delete_cmd_postfix": "",
     "delete_cmd_prefix": "del ",
     "library": "var_list.py",
     "varRefreshCmd": "print(var_dic_list())"
    },
    "r": {
     "delete_cmd_postfix": ") ",
     "delete_cmd_prefix": "rm(",
     "library": "var_list.r",
     "varRefreshCmd": "cat(var_dic_list()) "
    }
   },
   "types_to_exclude": [
    "module",
    "function",
    "builtin_function_or_method",
    "instance",
    "_Feature"
   ],
   "window_display": false
  }
 },
 "nbformat": 4,
 "nbformat_minor": 2
}
