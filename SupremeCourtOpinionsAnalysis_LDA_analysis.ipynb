{
 "cells": [
  {
   "cell_type": "code",
   "execution_count": null,
   "metadata": {
    "ExecuteTime": {
     "end_time": "2018-03-22T21:59:48.079087Z",
     "start_time": "2018-03-22T21:59:47.778Z"
    }
   },
   "outputs": [],
   "source": [
    "library(rjson)\n",
    "library(ggplot2)\n",
    "library(plyr)\n",
    "library(stringr)\n",
    "library(NLP)\n",
    "library(tm)\n",
    "library(tibble)\n",
    "library(cluster)\n",
    "library(factoextra)\n",
    "library(NbClust)\n",
    "library(RColorBrewer)\n",
    "library(wordcloud)\n",
    "library(topicmodels)"
   ]
  },
  {
   "cell_type": "code",
   "execution_count": 3,
   "metadata": {
    "ExecuteTime": {
     "end_time": "2018-03-22T21:53:58.874138Z",
     "start_time": "2018-03-22T21:51:41.340Z"
    }
   },
   "outputs": [],
   "source": [
    "opinions <- read.csv(\"opinions_sample.csv\", header=TRUE, sep=\";\")"
   ]
  },
  {
   "cell_type": "code",
   "execution_count": 12,
   "metadata": {
    "ExecuteTime": {
     "end_time": "2018-03-22T22:01:32.077027Z",
     "start_time": "2018-03-22T22:01:32.022Z"
    }
   },
   "outputs": [
    {
     "data": {
      "text/html": [
       "<ol class=list-inline>\n",
       "\t<li>5000</li>\n",
       "\t<li>17</li>\n",
       "</ol>\n"
      ],
      "text/latex": [
       "\\begin{enumerate*}\n",
       "\\item 5000\n",
       "\\item 17\n",
       "\\end{enumerate*}\n"
      ],
      "text/markdown": [
       "1. 5000\n",
       "2. 17\n",
       "\n",
       "\n"
      ],
      "text/plain": [
       "[1] 5000   17"
      ]
     },
     "metadata": {},
     "output_type": "display_data"
    },
    {
     "data": {
      "text/html": [
       "<ol class=list-inline>\n",
       "\t<li>'absolute_url'</li>\n",
       "\t<li>'author'</li>\n",
       "\t<li>'author_str'</li>\n",
       "\t<li>'cluster'</li>\n",
       "\t<li>'date_created'</li>\n",
       "\t<li>'date_modified'</li>\n",
       "\t<li>'download_url'</li>\n",
       "\t<li>'extracted_by_ocr'</li>\n",
       "\t<li>'html'</li>\n",
       "\t<li>'html_lawbox'</li>\n",
       "\t<li>'html_with_citations'</li>\n",
       "\t<li>'joined_by'</li>\n",
       "\t<li>'local_path'</li>\n",
       "\t<li>'opinions_cited'</li>\n",
       "\t<li>'per_curiam'</li>\n",
       "\t<li>'plain_text'</li>\n",
       "\t<li>'resource_uri'</li>\n",
       "</ol>\n"
      ],
      "text/latex": [
       "\\begin{enumerate*}\n",
       "\\item 'absolute\\_url'\n",
       "\\item 'author'\n",
       "\\item 'author\\_str'\n",
       "\\item 'cluster'\n",
       "\\item 'date\\_created'\n",
       "\\item 'date\\_modified'\n",
       "\\item 'download\\_url'\n",
       "\\item 'extracted\\_by\\_ocr'\n",
       "\\item 'html'\n",
       "\\item 'html\\_lawbox'\n",
       "\\item 'html\\_with\\_citations'\n",
       "\\item 'joined\\_by'\n",
       "\\item 'local\\_path'\n",
       "\\item 'opinions\\_cited'\n",
       "\\item 'per\\_curiam'\n",
       "\\item 'plain\\_text'\n",
       "\\item 'resource\\_uri'\n",
       "\\end{enumerate*}\n"
      ],
      "text/markdown": [
       "1. 'absolute_url'\n",
       "2. 'author'\n",
       "3. 'author_str'\n",
       "4. 'cluster'\n",
       "5. 'date_created'\n",
       "6. 'date_modified'\n",
       "7. 'download_url'\n",
       "8. 'extracted_by_ocr'\n",
       "9. 'html'\n",
       "10. 'html_lawbox'\n",
       "11. 'html_with_citations'\n",
       "12. 'joined_by'\n",
       "13. 'local_path'\n",
       "14. 'opinions_cited'\n",
       "15. 'per_curiam'\n",
       "16. 'plain_text'\n",
       "17. 'resource_uri'\n",
       "\n",
       "\n"
      ],
      "text/plain": [
       " [1] \"absolute_url\"        \"author\"              \"author_str\"         \n",
       " [4] \"cluster\"             \"date_created\"        \"date_modified\"      \n",
       " [7] \"download_url\"        \"extracted_by_ocr\"    \"html\"               \n",
       "[10] \"html_lawbox\"         \"html_with_citations\" \"joined_by\"          \n",
       "[13] \"local_path\"          \"opinions_cited\"      \"per_curiam\"         \n",
       "[16] \"plain_text\"          \"resource_uri\"       "
      ]
     },
     "metadata": {},
     "output_type": "display_data"
    }
   ],
   "source": [
    "dim(opinions)\n",
    "#head(opinions)\n",
    "names(opinions)"
   ]
  },
  {
   "cell_type": "code",
   "execution_count": 15,
   "metadata": {
    "ExecuteTime": {
     "end_time": "2018-03-22T22:02:33.790913Z",
     "start_time": "2018-03-22T22:02:27.834Z"
    },
    "scrolled": true
   },
   "outputs": [
    {
     "name": "stdout",
     "output_type": "stream",
     "text": [
      "<<DocumentTermMatrix (documents: 5000, terms: 79148)>>\n",
      "Non-/sparse entries: 290447/395449553\n",
      "Sparsity           : 100%\n",
      "Maximal term length: 73\n",
      "Weighting          : term frequency (tf)\n",
      "Sample             :\n",
      "      Terms\n",
      "Docs   and court for not see that  the this was with\n",
      "  1088 495   428 240 202 107  606 1961  135  98  115\n",
      "  1281 387   316 178 217 104  600 1476  102 203  117\n",
      "  1687 334    78 154 166 110  443 1407  116  36   64\n",
      "  195  574   201 317 238 159  593 1782  146  71  129\n",
      "  241  581   149 325 198 126  371 2004   87  40  103\n",
      "  2538 306   175  93 158  92  351 1294   84  47   74\n",
      "  3094 460    69 151 145 108  384 1686  134  64  110\n",
      "  4174 398   182 216 127 101  389 1045   88  70   82\n",
      "  4187 594   381 208 201  57  540 2098  176 104  131\n",
      "  4548 428    82 273 277 152  696 2378  169 236   87\n"
     ]
    }
   ],
   "source": [
    "opinions_text <- VCorpus(VectorSource(opinions$plain_text))\n",
    "opinions_dtm <- DocumentTermMatrix(opinions_text)\n",
    "inspect(opinions_dtm)"
   ]
  },
  {
   "cell_type": "code",
   "execution_count": 16,
   "metadata": {
    "ExecuteTime": {
     "end_time": "2018-03-22T22:08:46.589344Z",
     "start_time": "2018-03-22T22:07:39.262Z"
    }
   },
   "outputs": [
    {
     "name": "stdout",
     "output_type": "stream",
     "text": [
      "<<DocumentTermMatrix (documents: 5000, terms: 77662)>>\n",
      "Non-/sparse entries: 276505/388033495\n",
      "Sparsity           : 100%\n",
      "Maximal term length: 73\n",
      "Weighting          : term frequency (tf)\n",
      "Sample             :\n",
      "      Terms\n",
      "Docs   court federal id., j., opinion see state states the united\n",
      "  1088   428      87   64  59      51 107   218     28 195     21\n",
      "  1281   316     128  119  58      46 104   241     13 160     21\n",
      "  1687    78      27   49  41      36 110   115     19 153     27\n",
      "  195    201      27   45  68      66 159    16     38 164     39\n",
      "  241    149      71   38  95      52 126     9     53 212     97\n",
      "  2538   175      43   56  70      34  92    10     28 133     56\n",
      "  3094    69       8   22 147      29 108    92     38 166     41\n",
      "  4174   182       7   46  77      38 101    25     58 128     13\n",
      "  4187   381      58   81  45      70  57   199     23 320     16\n",
      "  4548    82      23   67  93      91 152    60     13 194     11\n"
     ]
    }
   ],
   "source": [
    "#Remove stopwords from the corpus\n",
    "opinions_text <- tm_map(opinions_text, removeWords, stopwords(\"english\"))\n",
    "opinions_dtm <- DocumentTermMatrix(opinions_text)\n",
    "inspect(opinions_dtm)"
   ]
  },
  {
   "cell_type": "code",
   "execution_count": null,
   "metadata": {
    "ExecuteTime": {
     "start_time": "2018-03-22T22:07:39.742Z"
    }
   },
   "outputs": [],
   "source": [
    "#Remove Whitespace Punctuation and Numbers from the corpus\n",
    "opinions_text <- tm_map(opinions_text, stripWhitespace)\n",
    "opinions_text <- tm_map(opinions_text, removePunctuation)\n",
    "opinions_text <- tm_map(opinions_text, removeNumbers)\n",
    "opinions_dtm <- DocumentTermMatrix(opinions_text)\n",
    "inspect(opinions_dtm)"
   ]
  },
  {
   "cell_type": "code",
   "execution_count": null,
   "metadata": {},
   "outputs": [],
   "source": [
    "#TF-IDF representation of the corpus\n",
    "opinions_dtm <- DocumentTermMatrix(opinions_text,\n",
    "           control = list(weighting = function(x) weightTfIdf(x, normalize = FALSE),"
   ]
  }
 ],
 "metadata": {
  "kernelspec": {
   "display_name": "R",
   "language": "R",
   "name": "ir"
  },
  "language_info": {
   "codemirror_mode": "r",
   "file_extension": ".r",
   "mimetype": "text/x-r-source",
   "name": "R",
   "pygments_lexer": "r",
   "version": "3.4.1"
  },
  "varInspector": {
   "cols": {
    "lenName": 16,
    "lenType": 16,
    "lenVar": 40
   },
   "kernels_config": {
    "python": {
     "delete_cmd_postfix": "",
     "delete_cmd_prefix": "del ",
     "library": "var_list.py",
     "varRefreshCmd": "print(var_dic_list())"
    },
    "r": {
     "delete_cmd_postfix": ") ",
     "delete_cmd_prefix": "rm(",
     "library": "var_list.r",
     "varRefreshCmd": "cat(var_dic_list()) "
    }
   },
   "types_to_exclude": [
    "module",
    "function",
    "builtin_function_or_method",
    "instance",
    "_Feature"
   ],
   "window_display": false
  }
 },
 "nbformat": 4,
 "nbformat_minor": 2
}
