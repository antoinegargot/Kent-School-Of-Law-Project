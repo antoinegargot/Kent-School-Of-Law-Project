{
 "cells": [
  {
   "cell_type": "code",
   "execution_count": 1,
   "metadata": {
    "colab": {
     "autoexec": {
      "startup": false,
      "wait_interval": 0
     }
    },
    "colab_type": "code",
    "id": "TreWUiXv4EUJ"
   },
   "outputs": [],
   "source": [
    "from bs4 import BeautifulSoup\n",
    "import pandas as pd\n",
    "import numpy as np"
   ]
  },
  {
   "cell_type": "code",
   "execution_count": 21,
   "metadata": {
    "colab": {
     "autoexec": {
      "startup": false,
      "wait_interval": 0
     }
    },
    "colab_type": "code",
    "id": "vkEPBtiJ4EUP"
   },
   "outputs": [],
   "source": [
    "import urllib2\n",
    "import json\n",
    "import glob"
   ]
  },
  {
   "cell_type": "markdown",
   "metadata": {},
   "source": [
    "## Store the names of the json files in a list"
   ]
  },
  {
   "cell_type": "code",
   "execution_count": 3,
   "metadata": {
    "colab": {
     "autoexec": {
      "startup": false,
      "wait_interval": 0
     }
    },
    "colab_type": "code",
    "id": "4ByZET7v4EUT"
   },
   "outputs": [],
   "source": [
    "filename = [\"85.json\", \"118434.json\"]"
   ]
  },
  {
   "cell_type": "markdown",
   "metadata": {},
   "source": [
    "### To automate finding json files: use `glob` method in python"
   ]
  },
  {
   "cell_type": "code",
   "execution_count": 23,
   "metadata": {},
   "outputs": [
    {
     "name": "stdout",
     "output_type": "stream",
     "text": [
      "['118434.json', '85.json']\n"
     ]
    }
   ],
   "source": [
    "file_paths = []\n",
    "for paths in glob.glob(\"*.json\"):\n",
    "    file_paths.append(paths)\n",
    "\n",
    "print file_paths"
   ]
  },
  {
   "cell_type": "markdown",
   "metadata": {},
   "source": [
    "### Skip to [functions](#Functions-for-automating-scraping) to check the functions and get datasets"
   ]
  },
  {
   "cell_type": "markdown",
   "metadata": {
    "colab_type": "text",
    "id": "PAAmHQZn4EUW"
   },
   "source": [
    "## Load JSON file"
   ]
  },
  {
   "cell_type": "code",
   "execution_count": null,
   "metadata": {
    "colab": {
     "autoexec": {
      "startup": false,
      "wait_interval": 0
     }
    },
    "colab_type": "code",
    "id": "jtvOZU3e4EUX"
   },
   "outputs": [],
   "source": [
    "with open(filename) as json_file:\n",
    "    content = json.load(json_file)"
   ]
  },
  {
   "cell_type": "code",
   "execution_count": null,
   "metadata": {
    "colab": {
     "autoexec": {
      "startup": false,
      "wait_interval": 0
     }
    },
    "colab_type": "code",
    "id": "jzM6UqYk4EUZ",
    "outputId": "12bdfef0-508f-465c-dd99-c7e0ee7a969b"
   },
   "outputs": [
    {
     "data": {
      "text/plain": [
       "{u'absolute_url': u'/opinion/85/morton-v-hall/',\n",
       " u'author': None,\n",
       " u'author_str': u'',\n",
       " u'cluster': u'http://www.courtlistener.com/api/rest/v3/clusters/85/',\n",
       " u'date_created': u'2010-03-13T23:57:55Z',\n",
       " u'date_modified': u'2017-03-23T23:37:38.640459Z',\n",
       " u'download_url': u'http://www.ca9.uscourts.gov/datastore/opinions/2010/03/12/07-55574.pdf',\n",
       " u'extracted_by_ocr': False,\n",
       " u'html': u'',\n",
       " u'html_columbia': None,\n",
       " u'html_lawbox': u'<div>\\n<center><b>599 F.3d 942 (2010)</b></center>\\n<center><h1>Bruce Alan MORTON, Plaintiff-Appellant,<br>\\nv.<br>\\nJames HALL, e/s/a Jim Hall; Vincent Anderson; Christy Hale; Richard Howell; Albert Luna, Defendants-Appellees.</h1></center>\\n<center>No. 07-55574.</center>\\n<center><p><b>United States Court of Appeals, Ninth Circuit.</b></p></center>\\n<center>Submitted March 1, 2010.<sup>[*]</sup></center>\\n<center>Filed March 12, 2010.</center>\\n<p><span class=\"star-pagination\">*943</span> Konrad L. Trope, Novo Law Group, P.C., Los Angeles, CA, for the plaintiff-appellant.</p>\\n<p>Kenneth G. Lake, Deputy Attorney General for the State of California, Los Angeles, CA, for the defendants-appellees.</p>\\n<p>Before: RONALD M. GOULD and SANDRA S. IKUTA, Circuit Judges, and LLOYD D. GEORGE, District Judge.<sup>[**]</sup></p>\\n<p>GOULD, Circuit Judge:</p>\\n<p>Plaintiff-Appellant Bruce Alan Morton (\"Morton\") appeals the dismissal of his Eighth Amendment 42 U.S.C. \\xa7 1983 claim against prison officials alleging that their deliberate indifference contributed to a violent assault on him by inmates on June 18, 2003. The district court found that Morton had failed to exhaust prison administrative remedies with regard to this claim as required by the Prison Litigation Reform Act (\"PLRA\"), 42 U.S.C. \\xa7 1997e(a). We have jurisdiction under 28 U.S.C. \\xa7 1291. We affirm.</p>\\n<p></p>\\n<h2>\\n<span class=\"star-pagination\">*944</span> I</h2>\\n<p>On June 18, 2003, Morton was assaulted by unknown inmates in the prison yard at Ironwood State Prison in Blythe, California (\"Ironwood\"). It is not clear why he was assaulted, although he alleges it was because inmates gained access to his prison central file (\"C-file\") and learned facts relating to his commitment offense (assault and murder of his five-year-old step-daughter) that stigmatized him as a sex-offender. Following the assault, Morton was moved to protective administrative segregation pending investigation of the assault. Morton was later transferred to a protective housing unit at Corcoran State Prison (\"Corcoran\").</p>\\n<p>On July 13, 2003, following the assault, Ironwood denied Morton visitation rights with minors. The grounds for doing so were based on Section 3173.1, title 15 of the California Code of Regulations, which imposes visiting restrictions on inmates arrested for or convicted of offenses involving minors, including sex offenses and homicide. Morton filed a grievance with the prison administration regarding this restriction on a standard California Department of Corrections (\"CDC\") \"Form 602,\" as required by governing regulations, <i>see</i> Cal.Code Regs. tit. 15, \\xa7 3084.2(a), and eventually exhausted his administrative remedies as to the denial of his visitation rights, <i>see</i> Cal.Code Regs. tit. 15 \\xa7 3084.5(e).</p>\\n<p>Morton filed the present action in district court against Ironwood\\'s warden, associate warden, three corrections counselors, and two corrections officers (collectively \"Defendants\"). He alleged four state-law causes of action and an Eighth Amendment violation under 42 U.S.C. \\xa7 1983. His \\xa7 1983 claim was premised on three discrete theories: (1) the deliberate indifference of prison staff contributed to his June 2003 assault, (2) his confinement to administrative segregation following the assault was unlawful, and (3) denial of visitation rights with minors was a serious deprivation of his rights. Defendants subsequently moved for summary judgment and argued, inter alia, the affirmative defenses of failure to exhaust administrative remedies under the PLRA and qualified immunity.</p>\\n<p>The district court held an evidentiary hearing on September 18, 2006, on Defendants\\' exhaustion argument. Morton presented no evidence of exhaustion as to his claims of assault and improper administrative segregation. Defendants submitted the testimony of Robert Hall, the Inmate Appeals Coordinator at Corcoran, and Patrick Tonra, the Inmate Appeals Coordinator at Ironwood. Both men provided a detailed overview of the record-keeping system for administrative appeals at each prison. Both men declared that they had reviewed hard-copy and electronic records and had found no evidence that Morton had ever filed a grievance pertaining to his assault. They testified that the only grievance for which records existed was Morton\\'s complaint relating to denial of visitations with minors.</p>\\n<p>The district court found that Morton had failed to exhaust administrative remedies on his \\xa7 1983 claims regarding the assault and administrative segregation, and dismissed those claims without prejudice. The district court found that Morton had exhausted his \\xa7 1983 claim regarding the denial of visitation rights, but the district court granted summary judgment for Defendants on the grounds that Morton had failed to state a constitutional or statutory violation and Defendants were protected by qualified immunity and the Eleventh Amendment. The district court denied Morton\\'s request for additional discovery under Federal Rule of Civil Procedure 56(f) on the grounds that it was rendered irrelevant in light of the partial dismissal <span class=\"star-pagination\">*945</span> and grant of summary judgment. The district court then declined to exercise supplemental jurisdiction on the remaining state-law claims and entered final judgment for Defendants on Morton\\'s federal-law claims.</p>\\n<p>Morton timely appealed. On appeal, Morton challenges only the dismissal of his \\xa7 1983 claim alleging that the deliberate indifference of prison officials contributed to his assault (the \"\\xa7 1983 assault claim\"). He argues that he was not required to exhaust the claim, that he did in fact exhaust the claim, and that the district court abused its discretion by denying his request for additional discovery under Federal Rule of Civil Procedure 56(f).</p>\\n<p></p>\\n<h2>II</h2>\\n<p>In reviewing a dismissal for failure to exhaust administrative remedies, we review the district court\\'s legal conclusions de novo and factual findings for clear error. <i>Griffin v. Arpaio,</i> 557 F.3d 1117, 1119 (9th Cir.2009). We review the decision not to permit additional discovery under Rule 56(f) for abuse of discretion. <i>Burlington N. Santa Fe R.R. Co. v. Assiniboine &amp; Sioux Tribes of the Fort Peck Reservation,</i> 323 F.3d 767, 773 (9th Cir. 2003).</p>\\n<p>According to the PLRA:</p>\\n<blockquote>No action shall be brought with respect to prison conditions under section 1983 of this title, or any other Federal law, by a prisoner confined in any jail, prison, or other correctional facility until such administrative remedies as are available are exhausted.</blockquote>\\n<p>42 U.S.C. \\xa7 1997e(a). In his opening brief, Morton argues that he was not required to exhaust administrative remedies under the PLRA with respect to his \\xa7 1983 assault claim because internal CDC grievance procedures do not provide a remedy in the form of money damages. This is an incorrect statement of law. Morton relies on outdated authority from this circuit overruled by the Supreme Court in <i>Booth v. Churner,</i> 532 U.S. 731, 121 S.Ct. 1819, 149 L.Ed.2d 958 (2001).<sup>[1]</sup> \"The question is whether an inmate seeking only money damages must complete a prison administrative process that could provide some sort of relief on the complaint stated, but no money. We hold that he must.\" <i>Id.</i> at 733, 121 S.Ct. 1819.</p>\\n<p>In his reply brief, Morton concedes that <i>Booth</i> requires that he exhaust his administrative remedies, but argues instead that he did in fact exhaust administrative remedies on his \\xa7 1983 assault claim. In deciding a motion to dismiss for failure to exhaust nonjudicial remedies under the PLRA, a district court \"may look beyond the pleadings and decide disputed issues of fact.\" <i>Wyatt v. Terhune,</i> 315 F.3d 1108 (9th Cir.2003). At the hearing before the district court on exhaustion, Morton presented no evidence that he had exhausted this claim. On the other hand, Defendants presented the testimony of persons charged with administrative-appeals record keeping at both Ironwood and Corcoran, who both testified that neither prison had a record of any such grievance ever being filed. Moreover, Morton\\'s C-file contained no record of such a grievance. On this record, the district court did not commit clear error by finding that Morton had failed to exhaust administrative remedies on his \\xa7 1983 assault claim.</p>\\n<p>Morton also argues that he exhausted his \\xa7 1983 assault claim by exhausting his challenge to the CDC\\'s decision to deny him visitation with minors. According to Morton, the denial of visitation <span class=\"star-pagination\">*946</span> with minors \"arose out of the same facts and circumstances\" as his \\xa7 1983 assault claim and therefore exhausted both claims.</p>\\n<p>The level of detail in an administrative grievance necessary to properly exhaust a claim is determined by the prison\\'s applicable grievance procedures. <i>Jones v. Bock,</i> 549 U.S. 199, 218, 127 S.Ct. 910, 166 L.Ed.2d 798 (2007). However, \"when a prison\\'s grievance procedures are silent or incomplete as to factual specificity, a grievance suffices if it alerts the prison to the nature of the wrong for which redress is sought.\" <i>Griffin,</i> 557 F.3d at 1120 (internal quotation marks omitted). \"A grievance need not include legal terminology or legal theories unless they are in some way needed to provide notice of the harm being grieved.\" <i>Id.</i></p>\\n<p>In this case, California regulations required Morton to lodge his administrative complaint on CDC Form 602 and \"to describe the problem and action requested.\" Cal.Code Regs. tit. 15, \\xa7 3084.2(a). The Form 602 Morton filed relating to the visitation restriction does not even mention the assault or theorize that the visitation restriction imposed was related to the assault. Rather, Morton stated his problem as follows:</p>\\n<blockquote>Sometime on or near June 30, 2003 the visiting staff at Ironwood State Prison permanently restricted me from having visits from anyone under 18 years of age, whether they are a relative or not. Upon my family and I inquiring as to why, the response they and I receive is I was convicted of PC 273d. I have a list of all the PC restricting visits from minors and I was never charged with nor convicted with 273d or any of . . . the PC listed on the visiting regulations sheet.</blockquote>\\n<p>This was insufficient to put prison officials on notice of Morton\\'s complaint that prison-staff conduct contributed to his June 2003 assault. Accordingly, Morton did not exhaust administrative remedies on his \\xa7 1983 assault claim.</p>\\n<p>The district court was required to dismiss Morton\\'s complaint because he did not exhaust administrative remedies, and therefore it did not abuse its discretion by denying Morton\\'s request for additional discovery under Federal Rule of Civil Procedure 56(f).</p>\\n<p></p>\\n<h2>III</h2>\\n<p>For the foregoing reasons, we affirm the judgment of the district court.</p>\\n<p>AFFIRMED.</p>\\n<h2>NOTES</h2>\\n<p>[*]  The panel unanimously concludes this case is suitable for decision without oral argument. <i>See</i> Fed. R.App. P. 34(a)(2).</p>\\n<p>[**]  The Honorable Lloyd D. George, Senior United States District Judge for the District of Nevada, sitting by designation.</p>\\n<p>[1]  The authorities relied on by Morton were <i>Rumbles v. Hill,</i> 182 F.3d 1064 (9th Cir.1999), and <i>Lunsford v. Jumao-As,</i> 155 F.3d 1178 (9th Cir. 1998) (order).</p>\\n\\n</div>',\n",
       " u'html_with_citations': u'<div>\\n<center><b><span class=\"citation no-link\"><span class=\"volume\">599</span> <span class=\"reporter\">F.3d</span> <span class=\"page\">942</span></span> (2010)</b></center>\\n<center><h1>Bruce Alan MORTON, Plaintiff-Appellant,<br>\\nv.<br>\\nJames HALL, e/s/a Jim Hall; Vincent Anderson; Christy Hale; Richard Howell; Albert Luna, Defendants-Appellees.</h1></center>\\n<center>No. 07-55574.</center>\\n<center><p><b>United States Court of Appeals, Ninth Circuit.</b></p></center>\\n<center>Submitted March 1, 2010.<sup>[*]</sup></center>\\n<center>Filed March 12, 2010.</center>\\n<p><span class=\"star-pagination\">*943</span> Konrad L. Trope, Novo Law Group, P.C., Los Angeles, CA, for the plaintiff-appellant.</p>\\n<p>Kenneth G. Lake, Deputy Attorney General for the State of California, Los Angeles, CA, for the defendants-appellees.</p>\\n<p>Before: RONALD M. GOULD and SANDRA S. IKUTA, Circuit Judges, and LLOYD D. GEORGE, District Judge.<sup>[**]</sup></p>\\n<p>GOULD, Circuit Judge:</p>\\n<p>Plaintiff-Appellant Bruce Alan Morton (\"Morton\") appeals the dismissal of his Eighth Amendment 42 U.S.C. \\xa7 1983 claim against prison officials alleging that their deliberate indifference contributed to a violent assault on him by inmates on June 18, 2003. The district court found that Morton had failed to exhaust prison administrative remedies with regard to this claim as required by the Prison Litigation Reform Act (\"PLRA\"), 42 U.S.C. \\xa7 1997e(a). We have jurisdiction under 28 U.S.C. \\xa7 1291. We affirm.</p>\\n<p></p>\\n<h2>\\n<span class=\"star-pagination\">*944</span> I</h2>\\n<p>On June 18, 2003, Morton was assaulted by unknown inmates in the prison yard at Ironwood State Prison in Blythe, California (\"Ironwood\"). It is not clear why he was assaulted, although he alleges it was because inmates gained access to his prison central file (\"C-file\") and learned facts relating to his commitment offense (assault and murder of his five-year-old step-daughter) that stigmatized him as a sex-offender. Following the assault, Morton was moved to protective administrative segregation pending investigation of the assault. Morton was later transferred to a protective housing unit at Corcoran State Prison (\"Corcoran\").</p>\\n<p>On July 13, 2003, following the assault, Ironwood denied Morton visitation rights with minors. The grounds for doing so were based on Section 3173.1, title 15 of the California Code of Regulations, which imposes visiting restrictions on inmates arrested for or convicted of offenses involving minors, including sex offenses and homicide. Morton filed a grievance with the prison administration regarding this restriction on a standard California Department of Corrections (\"CDC\") \"Form 602,\" as required by governing regulations, <i>see</i> Cal.Code Regs. tit. 15, \\xa7 3084.2(a), and eventually exhausted his administrative remedies as to the denial of his visitation rights, <i>see</i> Cal.Code Regs. tit. 15 \\xa7 3084.5(e).</p>\\n<p>Morton filed the present action in district court against Ironwood\\'s warden, associate warden, three corrections counselors, and two corrections officers (collectively \"Defendants\"). He alleged four state-law causes of action and an Eighth Amendment violation under 42 U.S.C. \\xa7 1983. His \\xa7 1983 claim was premised on three discrete theories: (1) the deliberate indifference of prison staff contributed to his June 2003 assault, (2) his confinement to administrative segregation following the assault was unlawful, and (3) denial of visitation rights with minors was a serious deprivation of his rights. Defendants subsequently moved for summary judgment and argued, inter alia, the affirmative defenses of failure to exhaust administrative remedies under the PLRA and qualified immunity.</p>\\n<p>The district court held an evidentiary hearing on September 18, 2006, on Defendants\\' exhaustion argument. Morton presented no evidence of exhaustion as to his claims of assault and improper administrative segregation. Defendants submitted the testimony of Robert Hall, the Inmate Appeals Coordinator at Corcoran, and Patrick Tonra, the Inmate Appeals Coordinator at Ironwood. Both men provided a detailed overview of the record-keeping system for administrative appeals at each prison. Both men declared that they had reviewed hard-copy and electronic records and had found no evidence that Morton had ever filed a grievance pertaining to his assault. They testified that the only grievance for which records existed was Morton\\'s complaint relating to denial of visitations with minors.</p>\\n<p>The district court found that Morton had failed to exhaust administrative remedies on his \\xa7 1983 claims regarding the assault and administrative segregation, and dismissed those claims without prejudice. The district court found that Morton had exhausted his \\xa7 1983 claim regarding the denial of visitation rights, but the district court granted summary judgment for Defendants on the grounds that Morton had failed to state a constitutional or statutory violation and Defendants were protected by qualified immunity and the Eleventh Amendment. The district court denied Morton\\'s request for additional discovery under Federal Rule of Civil Procedure 56(f) on the grounds that it was rendered irrelevant in light of the partial dismissal <span class=\"star-pagination\">*945</span> and grant of summary judgment. The district court then declined to exercise supplemental jurisdiction on the remaining state-law claims and entered final judgment for Defendants on Morton\\'s federal-law claims.</p>\\n<p>Morton timely appealed. On appeal, Morton challenges only the dismissal of his \\xa7 1983 claim alleging that the deliberate indifference of prison officials contributed to his assault (the \"\\xa7 1983 assault claim\"). He argues that he was not required to exhaust the claim, that he did in fact exhaust the claim, and that the district court abused its discretion by denying his request for additional discovery under Federal Rule of Civil Procedure 56(f).</p>\\n<p></p>\\n<h2>II</h2>\\n<p>In reviewing a dismissal for failure to exhaust administrative remedies, we review the district court\\'s legal conclusions de novo and factual findings for clear error. <i>Griffin v. Arpaio,</i> <span class=\"citation\" data-id=\"1433946\"><a href=\"/opinion/1433946/griffin-v-arpaio/\"><span class=\"volume\">557</span> <span class=\"reporter\">F.3d</span> <span class=\"page\">1117</span></a></span>, 1119 (9th Cir.2009). We review the decision not to permit additional discovery under Rule 56(f) for abuse of discretion. <i>Burlington N. Santa Fe R.R. Co. v. Assiniboine &amp; Sioux Tribes of the Fort Peck Reservation,</i> <span class=\"citation\" data-id=\"781335\"><a href=\"/opinion/781335/burlington-northern-santa-fe-railroad-company-a-delaware-corporation-v/\"><span class=\"volume\">323</span> <span class=\"reporter\">F.3d</span> <span class=\"page\">767</span></a></span>, 773 (9th Cir. 2003).</p>\\n<p>According to the PLRA:</p>\\n<blockquote>No action shall be brought with respect to prison conditions under section 1983 of this title, or any other Federal law, by a prisoner confined in any jail, prison, or other correctional facility until such administrative remedies as are available are exhausted.</blockquote>\\n<p>42 U.S.C. \\xa7 1997e(a). In his opening brief, Morton argues that he was not required to exhaust administrative remedies under the PLRA with respect to his \\xa7 1983 assault claim because internal CDC grievance procedures do not provide a remedy in the form of money damages. This is an incorrect statement of law. Morton relies on outdated authority from this circuit overruled by the Supreme Court in <i>Booth v. Churner,</i> <span class=\"citation\" data-id=\"118434\"><a href=\"/opinion/118434/booth-v-churner/\"><span class=\"volume\">532</span> <span class=\"reporter\">U.S.</span> <span class=\"page\">731</span></a></span>, <span class=\"citation\" data-id=\"118434\"><a href=\"/opinion/118434/booth-v-churner/\"><span class=\"volume\">121</span> <span class=\"reporter\">S. Ct.</span> <span class=\"page\">1819</span></a></span>, <span class=\"citation\" data-id=\"118434\"><a href=\"/opinion/118434/booth-v-churner/\"><span class=\"volume\">149</span> <span class=\"reporter\">L. Ed. 2d</span> <span class=\"page\">958</span></a></span> (2001).<sup>[1]</sup> \"The question is whether an inmate seeking only money damages must complete a prison administrative process that could provide some sort of relief on the complaint stated, but no money. We hold that he must.\" <i>Id.</i> at 733, <span class=\"citation\" data-id=\"118434\"><a href=\"/opinion/118434/booth-v-churner/\"><span class=\"volume\">121</span> <span class=\"reporter\">S. Ct.</span> <span class=\"page\">1819</span></a></span>.</p>\\n<p>In his reply brief, Morton concedes that <i>Booth</i> requires that he exhaust his administrative remedies, but argues instead that he did in fact exhaust administrative remedies on his \\xa7 1983 assault claim. In deciding a motion to dismiss for failure to exhaust nonjudicial remedies under the PLRA, a district court \"may look beyond the pleadings and decide disputed issues of fact.\" <i>Wyatt v. Terhune,</i> <span class=\"citation\" data-id=\"780452\"><a href=\"/opinion/780452/earl-wayne-wyatt-v-cal-a-terhune-suzan-hubbard-warden/\"><span class=\"volume\">315</span> <span class=\"reporter\">F.3d</span> <span class=\"page\">1108</span></a></span> (9th Cir.2003). At the hearing before the district court on exhaustion, Morton presented no evidence that he had exhausted this claim. On the other hand, Defendants presented the testimony of persons charged with administrative-appeals record keeping at both Ironwood and Corcoran, who both testified that neither prison had a record of any such grievance ever being filed. Moreover, Morton\\'s C-file contained no record of such a grievance. On this record, the district court did not commit clear error by finding that Morton had failed to exhaust administrative remedies on his \\xa7 1983 assault claim.</p>\\n<p>Morton also argues that he exhausted his \\xa7 1983 assault claim by exhausting his challenge to the CDC\\'s decision to deny him visitation with minors. According to Morton, the denial of visitation <span class=\"star-pagination\">*946</span> with minors \"arose out of the same facts and circumstances\" as his \\xa7 1983 assault claim and therefore exhausted both claims.</p>\\n<p>The level of detail in an administrative grievance necessary to properly exhaust a claim is determined by the prison\\'s applicable grievance procedures. <i>Jones v. Bock,</i> <span class=\"citation\" data-id=\"145763\"><a href=\"/opinion/145763/jones-v-bock/\"><span class=\"volume\">549</span> <span class=\"reporter\">U.S.</span> <span class=\"page\">199</span></a></span>, 218, <span class=\"citation\" data-id=\"145763\"><a href=\"/opinion/145763/jones-v-bock/\"><span class=\"volume\">127</span> <span class=\"reporter\">S. Ct.</span> <span class=\"page\">910</span></a></span>, <span class=\"citation\" data-id=\"145763\"><a href=\"/opinion/145763/jones-v-bock/\"><span class=\"volume\">166</span> <span class=\"reporter\">L. Ed. 2d</span> <span class=\"page\">798</span></a></span> (2007). However, \"when a prison\\'s grievance procedures are silent or incomplete as to factual specificity, a grievance suffices if it alerts the prison to the nature of the wrong for which redress is sought.\" <i>Griffin,</i> 557 F.3d at 1120 (internal quotation marks omitted). \"A grievance need not include legal terminology or legal theories unless they are in some way needed to provide notice of the harm being grieved.\" <i>Id.</i></p>\\n<p>In this case, California regulations required Morton to lodge his administrative complaint on CDC Form 602 and \"to describe the problem and action requested.\" Cal.Code Regs. tit. 15, \\xa7 3084.2(a). The Form 602 Morton filed relating to the visitation restriction does not even mention the assault or theorize that the visitation restriction imposed was related to the assault. Rather, Morton stated his problem as follows:</p>\\n<blockquote>Sometime on or near June 30, 2003 the visiting staff at Ironwood State Prison permanently restricted me from having visits from anyone under 18 years of age, whether they are a relative or not. Upon my family and I inquiring as to why, the response they and I receive is I was convicted of PC 273d. I have a list of all the PC restricting visits from minors and I was never charged with nor convicted with 273d or any of . . . the PC listed on the visiting regulations sheet.</blockquote>\\n<p>This was insufficient to put prison officials on notice of Morton\\'s complaint that prison-staff conduct contributed to his June 2003 assault. Accordingly, Morton did not exhaust administrative remedies on his \\xa7 1983 assault claim.</p>\\n<p>The district court was required to dismiss Morton\\'s complaint because he did not exhaust administrative remedies, and therefore it did not abuse its discretion by denying Morton\\'s request for additional discovery under Federal Rule of Civil Procedure 56(f).</p>\\n<p></p>\\n<h2>III</h2>\\n<p>For the foregoing reasons, we affirm the judgment of the district court.</p>\\n<p>AFFIRMED.</p>\\n<h2>NOTES</h2>\\n<p>[*]  The panel unanimously concludes this case is suitable for decision without oral argument. <i>See</i> Fed. R.App. P. 34(a)(2).</p>\\n<p>[**]  The Honorable Lloyd D. George, Senior United States District Judge for the District of Nevada, sitting by designation.</p>\\n<p>[1]  The authorities relied on by Morton were <i>Rumbles v. Hill,</i> <span class=\"citation\" data-id=\"765065\"><a href=\"/opinion/765065/macarthur-rumbles-v-donald-r-hill-black-and-beckett/\"><span class=\"volume\">182</span> <span class=\"reporter\">F.3d</span> <span class=\"page\">1064</span></a></span> (9th Cir.1999), and <i>Lunsford v. Jumao-As,</i> <span class=\"citation no-link\"><span class=\"volume\">155</span> <span class=\"reporter\">F.3d</span> <span class=\"page\">1178</span></span> (9th Cir. 1998) (order).</p>\\n\\n</div>',\n",
       " u'joined_by': [],\n",
       " u'local_path': u'pdf/2010/03/12/Morton_v._Hall.pdf',\n",
       " u'opinions_cited': [u'http://www.courtlistener.com/api/rest/v3/opinions/118434/',\n",
       "  u'http://www.courtlistener.com/api/rest/v3/opinions/145763/',\n",
       "  u'http://www.courtlistener.com/api/rest/v3/opinions/765065/',\n",
       "  u'http://www.courtlistener.com/api/rest/v3/opinions/780452/',\n",
       "  u'http://www.courtlistener.com/api/rest/v3/opinions/781335/',\n",
       "  u'http://www.courtlistener.com/api/rest/v3/opinions/1433946/'],\n",
       " u'page_count': 8,\n",
       " u'per_curiam': False,\n",
       " u'plain_text': u'                     FOR PUBLICATION\\n  UNITED STATES COURT OF APPEALS\\n       FOR THE NINTH CIRCUIT\\n\\nBRUCE ALAN MORTON,                         \\uf8fc\\n                Plaintiff-Appellant,\\n                                                  No. 07-55574\\n                v.\\nJAMES HALL, e/s/a Jim Hall;                \\uf8fd        D.C. No.\\n                                                CV-04-00831-SVW\\nVINCENT ANDERSON; CHRISTY HALE;\\n                                                     OPINION\\nRICHARD HOWELL; ALBERT LUNA,\\n            Defendants-Appellees.\\n                                           \\uf8fe\\n         Appeal from the United States District Court\\n             for the Central District of California\\n         Stephen V. Wilson, District Judge, Presiding\\n\\n                    Submitted March 1, 2010*\\n                       Pasadena, California\\n\\n                       Filed March 12, 2010\\n\\n       Before: Ronald M. Gould and Sandra S. Ikuta,\\n   Circuit Judges, and Lloyd D. George, District Judge.**\\n\\n                     Opinion by Judge Gould\\n\\n\\n\\n\\n   *The panel unanimously concludes this case is suitable for decision\\nwithout oral argument. See Fed. R. App. P. 34(a)(2).\\n   ** The Honorable Lloyd D. George, Senior United States District Judge\\nfor the District of Nevada, sitting by designation.\\n\\n                                 4213\\n\\x0c                     MORTON v. HALL                 4215\\n\\n\\n\\n\\n                       COUNSEL\\n\\nKonrad L. Trope, Novo Law Group, P.C., Los Angeles, Cali-\\nfornia, for the plaintiff-appellant.\\n\\nKenneth G. Lake, Deputy Attorney General for the State of\\nCalifornia, Los Angeles, California, for the defendants-\\nappellees.\\n\\x0c4216                   MORTON v. HALL\\n                          OPINION\\n\\nGOULD, Circuit Judge:\\n\\n   Plaintiff-Appellant Bruce Alan Morton (\\u201cMorton\\u201d) appeals\\nthe dismissal of his Eighth Amendment 42 U.S.C. \\xa7 1983\\nclaim against prison officials alleging that their deliberate\\nindifference contributed to a violent assault on him by\\ninmates on June 18, 2003. The district court found that Mor-\\nton had failed to exhaust prison administrative remedies with\\nregard to this claim as required by the Prison Litigation\\nReform Act (\\u201cPLRA\\u201d), 42 U.S.C. \\xa7 1997e(a). We have juris-\\ndiction under 28 U.S.C. \\xa7 1291. We affirm.\\n\\n                               I\\n\\n   On June 18, 2003, Morton was assaulted by unknown\\ninmates in the prison yard at Ironwood State Prison in Blythe,\\nCalifornia (\\u201cIronwood\\u201d). It is not clear why he was assaulted,\\nalthough he alleges it was because inmates gained access to\\nhis prison central file (\\u201cC-file\\u201d) and learned facts relating to\\nhis commitment offense (assault and murder of his five-year-\\nold step-daughter) that stigmatized him as a sex-offender. Fol-\\nlowing the assault, Morton was moved to protective adminis-\\ntrative segregation pending investigation of the assault.\\nMorton was later transferred to a protective housing unit at\\nCorcoran State Prison (\\u201cCorcoran\\u201d).\\n\\n   On July 13, 2003, following the assault, Ironwood denied\\nMorton visitation rights with minors. The grounds for doing\\nso were based on Section 3173.1, title 15 of the California\\nCode of Regulations, which imposes visiting restrictions on\\ninmates arrested for or convicted of offenses involving\\nminors, including sex offenses and homicide. Morton filed a\\ngrievance with the prison administration regarding this\\nrestriction on a standard California Department of Corrections\\n(\\u201cCDC\\u201d) \\u201cForm 602,\\u201d as required by governing regulations,\\nsee Cal. Code Regs. tit. 15, \\xa7 3084.2(a), and eventually\\n\\x0c                       MORTON v. HALL                      4217\\nexhausted his administrative remedies as to the denial of his\\nvisitation rights, see Cal. Code Regs. tit. 15 \\xa7 3084.5(e).\\n\\n   Morton filed the present action in district court against\\nIronwood\\u2019s warden, associate warden, three corrections coun-\\nselors, and two corrections officers (collectively \\u201cDefen-\\ndants\\u201d). He alleged four state-law causes of action and an\\nEighth Amendment violation under 42 U.S.C. \\xa7 1983. His\\n\\xa7 1983 claim was premised on three discrete theories: (1) the\\ndeliberate indifference of prison staff contributed to his June\\n2003 assault, (2) his confinement to administrative segrega-\\ntion following the assault was unlawful, and (3) denial of visi-\\ntation rights with minors was a serious deprivation of his\\nrights. Defendants subsequently moved for summary judg-\\nment and argued, inter alia, the affirmative defenses of failure\\nto exhaust administrative remedies under the PLRA and quali-\\nfied immunity.\\n\\n   The district court held an evidentiary hearing on September\\n18, 2006, on Defendants\\u2019 exhaustion argument. Morton pre-\\nsented no evidence of exhaustion as to his claims of assault\\nand improper administrative segregation. Defendants submit-\\nted the testimony of Robert Hall, the Inmate Appeals Coordi-\\nnator at Corcoran, and Patrick Tonra, the Inmate Appeals\\nCoordinator at Ironwood. Both men provided a detailed over-\\nview of the record-keeping system for administrative appeals\\nat each prison. Both men declared that they had reviewed\\nhard-copy and electronic records and had found no evidence\\nthat Morton had ever filed a grievance pertaining to his\\nassault. They testified that the only grievance for which\\nrecords existed was Morton\\u2019s complaint relating to denial of\\nvisitations with minors.\\n\\n   The district court found that Morton had failed to exhaust\\nadministrative remedies on his \\xa7 1983 claims regarding the\\nassault and administrative segregation, and dismissed those\\nclaims without prejudice. The district court found that Morton\\nhad exhausted his \\xa7 1983 claim regarding the denial of visita-\\n\\x0c4218                    MORTON v. HALL\\ntion rights, but the district court granted summary judgment\\nfor Defendants on the grounds that Morton had failed to state\\na constitutional or statutory violation and Defendants were\\nprotected by qualified immunity and the Eleventh Amend-\\nment. The district court denied Morton\\u2019s request for addi-\\ntional discovery under Federal Rule of Civil Procedure 56(f)\\non the grounds that it was rendered irrelevant in light of the\\npartial dismissal and grant of summary judgment. The district\\ncourt then declined to exercise supplemental jurisdiction on\\nthe remaining state-law claims and entered final judgment for\\nDefendants on Morton\\u2019s federal-law claims.\\n\\n   Morton timely appealed. On appeal, Morton challenges\\nonly the dismissal of his \\xa7 1983 claim alleging that the delib-\\nerate indifference of prison officials contributed to his assault\\n(the \\u201c\\xa7 1983 assault claim\\u201d). He argues that he was not\\nrequired to exhaust the claim, that he did in fact exhaust the\\nclaim, and that the district court abused its discretion by deny-\\ning his request for additional discovery under Federal Rule of\\nCivil Procedure 56(f).\\n\\n                               II\\n\\n   In reviewing a dismissal for failure to exhaust administra-\\ntive remedies, we review the district court\\u2019s legal conclusions\\nde novo and factual findings for clear error. Griffin v. Arpaio,\\n557 F.3d 1117, 1119 (9th Cir. 2009). We review the decision\\nnot to permit additional discovery under Rule 56(f) for abuse\\nof discretion. Burlington N. Santa Fe R.R. Co. v. Assiniboine\\n& Sioux Tribes of the Fort Peck Reservation, 323 F.3d 767,\\n773 (9th Cir. 2003).\\n\\n  [1] According to the PLRA:\\n\\n    No action shall be brought with respect to prison\\n    conditions under section 1983 of this title, or any\\n    other Federal law, by a prisoner confined in any jail,\\n    prison, or other correctional facility until such\\n\\x0c                          MORTON v. HALL                            4219\\n      administrative    remedies     as   are    available    are\\n      exhausted.\\n\\n42 U.S.C. \\xa7 1997e(a). In his opening brief, Morton argues that\\nhe was not required to exhaust administrative remedies under\\nthe PLRA with respect to his \\xa7 1983 assault claim because\\ninternal CDC grievance procedures do not provide a remedy\\nin the form of money damages. This is an incorrect statement\\nof law. Morton relies on outdated authority from this circuit\\noverruled by the Supreme Court in Booth v. Churner, 532\\nU.S. 731 (2001).1 \\u201cThe question is whether an inmate seeking\\nonly money damages must complete a prison administrative\\nprocess that could provide some sort of relief on the com-\\nplaint stated, but no money. We hold that he must.\\u201d Id. at 733.\\n\\n   [2] In his reply brief, Morton concedes that Booth requires\\nthat he exhaust his administrative remedies, but argues instead\\nthat he did in fact exhaust administrative remedies on his\\n\\xa7 1983 assault claim. In deciding a motion to dismiss for fail-\\nure to exhaust nonjudicial remedies under the PLRA, a district\\ncourt \\u201cmay look beyond the pleadings and decide disputed\\nissues of fact.\\u201d Wyatt v. Terhune, 315 F.3d 1108, 1120 (9th\\nCir. 2003). At the hearing before the district court on exhaus-\\ntion, Morton presented no evidence that he had exhausted this\\nclaim. On the other hand, Defendants presented the testimony\\nof persons charged with administrative-appeals record keep-\\ning at both Ironwood and Corcoran, who both testified that\\nneither prison had a record of any such grievance ever being\\nfiled. Moreover, Morton\\u2019s C-file contained no record of such\\na grievance. On this record, the district court did not commit\\nclear error by finding that Morton had failed to exhaust\\nadministrative remedies on his \\xa7 1983 assault claim.\\n\\n  Morton also argues that he exhausted his \\xa7 1983 assault\\n  1\\n   The authorities relied on by Morton were Rumbles v. Hill, 182 F.3d\\n1064 (9th Cir. 1999), and Lunsford v. Jumao-As, 155 F.3d 1178 (9th Cir.\\n1998) (order).\\n\\x0c4220                    MORTON v. HALL\\nclaim by exhausting his challenge to the CDC\\u2019s decision to\\ndeny him visitation with minors. According to Morton, the\\ndenial of visitation with minors \\u201carose out of the same facts\\nand circumstances\\u201d as his \\xa7 1983 assault claim and therefore\\nexhausted both claims.\\n\\n   [3] The level of detail in an administrative grievance nec-\\nessary to properly exhaust a claim is determined by the pris-\\non\\u2019s applicable grievance procedures. Jones v. Bock, 549 U.S.\\n199, 218 (2007). However, \\u201cwhen a prison\\u2019s grievance proce-\\ndures are silent or incomplete as to factual specificity, a griev-\\nance suffices if it alerts the prison to the nature of the wrong\\nfor which redress is sought.\\u201d Griffin, 557 F.3d at 1120 (inter-\\nnal quotation marks omitted). \\u201cA grievance need not include\\nlegal terminology or legal theories unless they are in some\\nway needed to provide notice of the harm being grieved.\\u201d Id.\\n\\n    [4] In this case, California regulations required Morton to\\nlodge his administrative complaint on CDC Form 602 and \\u201cto\\ndescribe the problem and action requested.\\u201d Cal. Code Regs.\\ntit. 15, \\xa7 3084.2(a). The Form 602 Morton filed relating to the\\nvisitation restriction does not even mention the assault or the-\\norize that the visitation restriction imposed was related to the\\nassault. Rather, Morton stated his problem as follows:\\n\\n    Sometime on or near June 30, 2003 the visiting staff\\n    at Ironwood State Prison permanently restricted me\\n    from having visits from anyone under 18 years of\\n    age, whether they are a relative or not. Upon my\\n    family and I inquiring as to why, the response they\\n    and I receive is I was convicted of PC 273d. I have\\n    a list of all the PC restricting visits from minors and\\n    I was never charged with nor convicted with 273d or\\n    any of . . . the PC listed on the visiting regulations\\n    sheet.\\n\\nThis was insufficient to put prison officials on notice of Mor-\\nton\\u2019s complaint that prison-staff conduct contributed to his\\n\\x0c                      MORTON v. HALL                    4221\\nJune 2003 assault. Accordingly, Morton did not exhaust\\nadministrative remedies on his \\xa7 1983 assault claim.\\n\\n   The district court was required to dismiss Morton\\u2019s com-\\nplaint because he did not exhaust administrative remedies,\\nand therefore it did not abuse its discretion by denying Mor-\\nton\\u2019s request for additional discovery under Federal Rule of\\nCivil Procedure 56(f).\\n\\n                             III\\n\\n   For the foregoing reasons, we affirm the judgment of the\\ndistrict court.\\n\\n  AFFIRMED.\\n\\x0c',\n",
       " u'resource_uri': u'http://www.courtlistener.com/api/rest/v3/opinions/85/',\n",
       " u'sha1': u'aca3083fedf48f7d8bc098c31c3704c07dc0acf3',\n",
       " u'type': u'010combined'}"
      ]
     },
     "execution_count": 7,
     "metadata": {
      "tags": []
     },
     "output_type": "execute_result"
    }
   ],
   "source": [
    "content"
   ]
  },
  {
   "cell_type": "markdown",
   "metadata": {
    "colab_type": "text",
    "id": "Te0Qy0v24EUf"
   },
   "source": [
    "## Get html content from the JSON"
   ]
  },
  {
   "cell_type": "code",
   "execution_count": null,
   "metadata": {
    "colab": {
     "autoexec": {
      "startup": false,
      "wait_interval": 0
     }
    },
    "colab_type": "code",
    "id": "4JY67Fl84EUg"
   },
   "outputs": [],
   "source": [
    "citation_html = content.get(\"html_with_citations\")"
   ]
  },
  {
   "cell_type": "code",
   "execution_count": null,
   "metadata": {
    "colab": {
     "autoexec": {
      "startup": false,
      "wait_interval": 0
     }
    },
    "colab_type": "code",
    "id": "Ujqbjzib4EUj",
    "outputId": "d954ba27-00dd-4b85-f2db-fda06452f253"
   },
   "outputs": [
    {
     "data": {
      "text/plain": [
       "u'<div>\\n<center><b><span class=\"citation no-link\"><span class=\"volume\">599</span> <span class=\"reporter\">F.3d</span> <span class=\"page\">942</span></span> (2010)</b></center>\\n<center><h1>Bruce Alan MORTON, Plaintiff-Appellant,<br>\\nv.<br>\\nJames HALL, e/s/a Jim Hall; Vincent Anderson; Christy Hale; Richard Howell; Albert Luna, Defendants-Appellees.</h1></center>\\n<center>No. 07-55574.</center>\\n<center><p><b>United States Court of Appeals, Ninth Circuit.</b></p></center>\\n<center>Submitted March 1, 2010.<sup>[*]</sup></center>\\n<center>Filed March 12, 2010.</center>\\n<p><span class=\"star-pagination\">*943</span> Konrad L. Trope, Novo Law Group, P.C., Los Angeles, CA, for the plaintiff-appellant.</p>\\n<p>Kenneth G. Lake, Deputy Attorney General for the State of California, Los Angeles, CA, for the defendants-appellees.</p>\\n<p>Before: RONALD M. GOULD and SANDRA S. IKUTA, Circuit Judges, and LLOYD D. GEORGE, District Judge.<sup>[**]</sup></p>\\n<p>GOULD, Circuit Judge:</p>\\n<p>Plaintiff-Appellant Bruce Alan Morton (\"Morton\") appeals the dismissal of his Eighth Amendment 42 U.S.C. \\xa7 1983 claim against prison officials alleging that their deliberate indifference contributed to a violent assault on him by inmates on June 18, 2003. The district court found that Morton had failed to exhaust prison administrative remedies with regard to this claim as required by the Prison Litigation Reform Act (\"PLRA\"), 42 U.S.C. \\xa7 1997e(a). We have jurisdiction under 28 U.S.C. \\xa7 1291. We affirm.</p>\\n<p></p>\\n<h2>\\n<span class=\"star-pagination\">*944</span> I</h2>\\n<p>On June 18, 2003, Morton was assaulted by unknown inmates in the prison yard at Ironwood State Prison in Blythe, California (\"Ironwood\"). It is not clear why he was assaulted, although he alleges it was because inmates gained access to his prison central file (\"C-file\") and learned facts relating to his commitment offense (assault and murder of his five-year-old step-daughter) that stigmatized him as a sex-offender. Following the assault, Morton was moved to protective administrative segregation pending investigation of the assault. Morton was later transferred to a protective housing unit at Corcoran State Prison (\"Corcoran\").</p>\\n<p>On July 13, 2003, following the assault, Ironwood denied Morton visitation rights with minors. The grounds for doing so were based on Section 3173.1, title 15 of the California Code of Regulations, which imposes visiting restrictions on inmates arrested for or convicted of offenses involving minors, including sex offenses and homicide. Morton filed a grievance with the prison administration regarding this restriction on a standard California Department of Corrections (\"CDC\") \"Form 602,\" as required by governing regulations, <i>see</i> Cal.Code Regs. tit. 15, \\xa7 3084.2(a), and eventually exhausted his administrative remedies as to the denial of his visitation rights, <i>see</i> Cal.Code Regs. tit. 15 \\xa7 3084.5(e).</p>\\n<p>Morton filed the present action in district court against Ironwood\\'s warden, associate warden, three corrections counselors, and two corrections officers (collectively \"Defendants\"). He alleged four state-law causes of action and an Eighth Amendment violation under 42 U.S.C. \\xa7 1983. His \\xa7 1983 claim was premised on three discrete theories: (1) the deliberate indifference of prison staff contributed to his June 2003 assault, (2) his confinement to administrative segregation following the assault was unlawful, and (3) denial of visitation rights with minors was a serious deprivation of his rights. Defendants subsequently moved for summary judgment and argued, inter alia, the affirmative defenses of failure to exhaust administrative remedies under the PLRA and qualified immunity.</p>\\n<p>The district court held an evidentiary hearing on September 18, 2006, on Defendants\\' exhaustion argument. Morton presented no evidence of exhaustion as to his claims of assault and improper administrative segregation. Defendants submitted the testimony of Robert Hall, the Inmate Appeals Coordinator at Corcoran, and Patrick Tonra, the Inmate Appeals Coordinator at Ironwood. Both men provided a detailed overview of the record-keeping system for administrative appeals at each prison. Both men declared that they had reviewed hard-copy and electronic records and had found no evidence that Morton had ever filed a grievance pertaining to his assault. They testified that the only grievance for which records existed was Morton\\'s complaint relating to denial of visitations with minors.</p>\\n<p>The district court found that Morton had failed to exhaust administrative remedies on his \\xa7 1983 claims regarding the assault and administrative segregation, and dismissed those claims without prejudice. The district court found that Morton had exhausted his \\xa7 1983 claim regarding the denial of visitation rights, but the district court granted summary judgment for Defendants on the grounds that Morton had failed to state a constitutional or statutory violation and Defendants were protected by qualified immunity and the Eleventh Amendment. The district court denied Morton\\'s request for additional discovery under Federal Rule of Civil Procedure 56(f) on the grounds that it was rendered irrelevant in light of the partial dismissal <span class=\"star-pagination\">*945</span> and grant of summary judgment. The district court then declined to exercise supplemental jurisdiction on the remaining state-law claims and entered final judgment for Defendants on Morton\\'s federal-law claims.</p>\\n<p>Morton timely appealed. On appeal, Morton challenges only the dismissal of his \\xa7 1983 claim alleging that the deliberate indifference of prison officials contributed to his assault (the \"\\xa7 1983 assault claim\"). He argues that he was not required to exhaust the claim, that he did in fact exhaust the claim, and that the district court abused its discretion by denying his request for additional discovery under Federal Rule of Civil Procedure 56(f).</p>\\n<p></p>\\n<h2>II</h2>\\n<p>In reviewing a dismissal for failure to exhaust administrative remedies, we review the district court\\'s legal conclusions de novo and factual findings for clear error. <i>Griffin v. Arpaio,</i> <span class=\"citation\" data-id=\"1433946\"><a href=\"/opinion/1433946/griffin-v-arpaio/\"><span class=\"volume\">557</span> <span class=\"reporter\">F.3d</span> <span class=\"page\">1117</span></a></span>, 1119 (9th Cir.2009). We review the decision not to permit additional discovery under Rule 56(f) for abuse of discretion. <i>Burlington N. Santa Fe R.R. Co. v. Assiniboine &amp; Sioux Tribes of the Fort Peck Reservation,</i> <span class=\"citation\" data-id=\"781335\"><a href=\"/opinion/781335/burlington-northern-santa-fe-railroad-company-a-delaware-corporation-v/\"><span class=\"volume\">323</span> <span class=\"reporter\">F.3d</span> <span class=\"page\">767</span></a></span>, 773 (9th Cir. 2003).</p>\\n<p>According to the PLRA:</p>\\n<blockquote>No action shall be brought with respect to prison conditions under section 1983 of this title, or any other Federal law, by a prisoner confined in any jail, prison, or other correctional facility until such administrative remedies as are available are exhausted.</blockquote>\\n<p>42 U.S.C. \\xa7 1997e(a). In his opening brief, Morton argues that he was not required to exhaust administrative remedies under the PLRA with respect to his \\xa7 1983 assault claim because internal CDC grievance procedures do not provide a remedy in the form of money damages. This is an incorrect statement of law. Morton relies on outdated authority from this circuit overruled by the Supreme Court in <i>Booth v. Churner,</i> <span class=\"citation\" data-id=\"118434\"><a href=\"/opinion/118434/booth-v-churner/\"><span class=\"volume\">532</span> <span class=\"reporter\">U.S.</span> <span class=\"page\">731</span></a></span>, <span class=\"citation\" data-id=\"118434\"><a href=\"/opinion/118434/booth-v-churner/\"><span class=\"volume\">121</span> <span class=\"reporter\">S. Ct.</span> <span class=\"page\">1819</span></a></span>, <span class=\"citation\" data-id=\"118434\"><a href=\"/opinion/118434/booth-v-churner/\"><span class=\"volume\">149</span> <span class=\"reporter\">L. Ed. 2d</span> <span class=\"page\">958</span></a></span> (2001).<sup>[1]</sup> \"The question is whether an inmate seeking only money damages must complete a prison administrative process that could provide some sort of relief on the complaint stated, but no money. We hold that he must.\" <i>Id.</i> at 733, <span class=\"citation\" data-id=\"118434\"><a href=\"/opinion/118434/booth-v-churner/\"><span class=\"volume\">121</span> <span class=\"reporter\">S. Ct.</span> <span class=\"page\">1819</span></a></span>.</p>\\n<p>In his reply brief, Morton concedes that <i>Booth</i> requires that he exhaust his administrative remedies, but argues instead that he did in fact exhaust administrative remedies on his \\xa7 1983 assault claim. In deciding a motion to dismiss for failure to exhaust nonjudicial remedies under the PLRA, a district court \"may look beyond the pleadings and decide disputed issues of fact.\" <i>Wyatt v. Terhune,</i> <span class=\"citation\" data-id=\"780452\"><a href=\"/opinion/780452/earl-wayne-wyatt-v-cal-a-terhune-suzan-hubbard-warden/\"><span class=\"volume\">315</span> <span class=\"reporter\">F.3d</span> <span class=\"page\">1108</span></a></span> (9th Cir.2003). At the hearing before the district court on exhaustion, Morton presented no evidence that he had exhausted this claim. On the other hand, Defendants presented the testimony of persons charged with administrative-appeals record keeping at both Ironwood and Corcoran, who both testified that neither prison had a record of any such grievance ever being filed. Moreover, Morton\\'s C-file contained no record of such a grievance. On this record, the district court did not commit clear error by finding that Morton had failed to exhaust administrative remedies on his \\xa7 1983 assault claim.</p>\\n<p>Morton also argues that he exhausted his \\xa7 1983 assault claim by exhausting his challenge to the CDC\\'s decision to deny him visitation with minors. According to Morton, the denial of visitation <span class=\"star-pagination\">*946</span> with minors \"arose out of the same facts and circumstances\" as his \\xa7 1983 assault claim and therefore exhausted both claims.</p>\\n<p>The level of detail in an administrative grievance necessary to properly exhaust a claim is determined by the prison\\'s applicable grievance procedures. <i>Jones v. Bock,</i> <span class=\"citation\" data-id=\"145763\"><a href=\"/opinion/145763/jones-v-bock/\"><span class=\"volume\">549</span> <span class=\"reporter\">U.S.</span> <span class=\"page\">199</span></a></span>, 218, <span class=\"citation\" data-id=\"145763\"><a href=\"/opinion/145763/jones-v-bock/\"><span class=\"volume\">127</span> <span class=\"reporter\">S. Ct.</span> <span class=\"page\">910</span></a></span>, <span class=\"citation\" data-id=\"145763\"><a href=\"/opinion/145763/jones-v-bock/\"><span class=\"volume\">166</span> <span class=\"reporter\">L. Ed. 2d</span> <span class=\"page\">798</span></a></span> (2007). However, \"when a prison\\'s grievance procedures are silent or incomplete as to factual specificity, a grievance suffices if it alerts the prison to the nature of the wrong for which redress is sought.\" <i>Griffin,</i> 557 F.3d at 1120 (internal quotation marks omitted). \"A grievance need not include legal terminology or legal theories unless they are in some way needed to provide notice of the harm being grieved.\" <i>Id.</i></p>\\n<p>In this case, California regulations required Morton to lodge his administrative complaint on CDC Form 602 and \"to describe the problem and action requested.\" Cal.Code Regs. tit. 15, \\xa7 3084.2(a). The Form 602 Morton filed relating to the visitation restriction does not even mention the assault or theorize that the visitation restriction imposed was related to the assault. Rather, Morton stated his problem as follows:</p>\\n<blockquote>Sometime on or near June 30, 2003 the visiting staff at Ironwood State Prison permanently restricted me from having visits from anyone under 18 years of age, whether they are a relative or not. Upon my family and I inquiring as to why, the response they and I receive is I was convicted of PC 273d. I have a list of all the PC restricting visits from minors and I was never charged with nor convicted with 273d or any of . . . the PC listed on the visiting regulations sheet.</blockquote>\\n<p>This was insufficient to put prison officials on notice of Morton\\'s complaint that prison-staff conduct contributed to his June 2003 assault. Accordingly, Morton did not exhaust administrative remedies on his \\xa7 1983 assault claim.</p>\\n<p>The district court was required to dismiss Morton\\'s complaint because he did not exhaust administrative remedies, and therefore it did not abuse its discretion by denying Morton\\'s request for additional discovery under Federal Rule of Civil Procedure 56(f).</p>\\n<p></p>\\n<h2>III</h2>\\n<p>For the foregoing reasons, we affirm the judgment of the district court.</p>\\n<p>AFFIRMED.</p>\\n<h2>NOTES</h2>\\n<p>[*]  The panel unanimously concludes this case is suitable for decision without oral argument. <i>See</i> Fed. R.App. P. 34(a)(2).</p>\\n<p>[**]  The Honorable Lloyd D. George, Senior United States District Judge for the District of Nevada, sitting by designation.</p>\\n<p>[1]  The authorities relied on by Morton were <i>Rumbles v. Hill,</i> <span class=\"citation\" data-id=\"765065\"><a href=\"/opinion/765065/macarthur-rumbles-v-donald-r-hill-black-and-beckett/\"><span class=\"volume\">182</span> <span class=\"reporter\">F.3d</span> <span class=\"page\">1064</span></a></span> (9th Cir.1999), and <i>Lunsford v. Jumao-As,</i> <span class=\"citation no-link\"><span class=\"volume\">155</span> <span class=\"reporter\">F.3d</span> <span class=\"page\">1178</span></span> (9th Cir. 1998) (order).</p>\\n\\n</div>'"
      ]
     },
     "execution_count": 17,
     "metadata": {
      "tags": []
     },
     "output_type": "execute_result"
    }
   ],
   "source": [
    "citation_html"
   ]
  },
  {
   "cell_type": "code",
   "execution_count": null,
   "metadata": {
    "colab": {
     "autoexec": {
      "startup": false,
      "wait_interval": 0
     }
    },
    "colab_type": "code",
    "id": "fgEOJVBO4EUn"
   },
   "outputs": [],
   "source": [
    "soup = BeautifulSoup(citation_html, 'html.parser')"
   ]
  },
  {
   "cell_type": "code",
   "execution_count": null,
   "metadata": {
    "colab": {
     "autoexec": {
      "startup": false,
      "wait_interval": 0
     }
    },
    "colab_type": "code",
    "id": "hEMJnmTi4EUp"
   },
   "outputs": [],
   "source": [
    "print soup.prettify()"
   ]
  },
  {
   "cell_type": "markdown",
   "metadata": {
    "colab_type": "text",
    "id": "cHklTsUC4EUt"
   },
   "source": [
    "## Find all the **center** tags to get `case_id`, `case_name`"
   ]
  },
  {
   "cell_type": "code",
   "execution_count": null,
   "metadata": {
    "colab": {
     "autoexec": {
      "startup": false,
      "wait_interval": 0
     }
    },
    "colab_type": "code",
    "id": "KNvfRxu_4EUu"
   },
   "outputs": [],
   "source": [
    "center_content = soup.find_all(\"center\")"
   ]
  },
  {
   "cell_type": "code",
   "execution_count": null,
   "metadata": {
    "colab": {
     "autoexec": {
      "startup": false,
      "wait_interval": 0
     }
    },
    "colab_type": "code",
    "id": "AmvPnlw64EUw",
    "outputId": "d8b8f6ca-b76e-4f91-8081-396700c4ca91"
   },
   "outputs": [
    {
     "data": {
      "text/plain": [
       "[<center><b><span class=\"citation no-link\"><span class=\"volume\">599</span> <span class=\"reporter\">F.3d</span> <span class=\"page\">942</span></span> (2010)</b></center>,\n",
       " <center><h1>Bruce Alan MORTON, Plaintiff-Appellant,<br/>\\nv.<br/>\\nJames HALL, e/s/a Jim Hall; Vincent Anderson; Christy Hale; Richard Howell; Albert Luna, Defendants-Appellees.</h1></center>,\n",
       " <center>No. 07-55574.</center>,\n",
       " <center><p><b>United States Court of Appeals, Ninth Circuit.</b></p></center>,\n",
       " <center>Submitted March 1, 2010.<sup>[*]</sup></center>,\n",
       " <center>Filed March 12, 2010.</center>]"
      ]
     },
     "execution_count": 22,
     "metadata": {
      "tags": []
     },
     "output_type": "execute_result"
    }
   ],
   "source": [
    "center_content"
   ]
  },
  {
   "cell_type": "code",
   "execution_count": null,
   "metadata": {
    "colab": {
     "autoexec": {
      "startup": false,
      "wait_interval": 0
     }
    },
    "colab_type": "code",
    "id": "4kBNmUfL4EUz",
    "outputId": "bc7f2492-d637-4d1a-ef34-0e2a60f2dae8"
   },
   "outputs": [
    {
     "name": "stdout",
     "output_type": "stream",
     "text": [
      "<center>No. 07-55574.</center>\n"
     ]
    }
   ],
   "source": [
    "case_id = []\n",
    "for lines in center_content:\n",
    "    # print lines.get_text()\n",
    "    try:\n",
    "        if \"No.\" in lines.get_text():\n",
    "            print lines\n",
    "            case_id.append(lines.get_text().encode(\"utf-8\"))\n",
    "    except:\n",
    "        case_id.append(\"Not Found\")"
   ]
  },
  {
   "cell_type": "code",
   "execution_count": null,
   "metadata": {
    "colab": {
     "autoexec": {
      "startup": false,
      "wait_interval": 0
     }
    },
    "colab_type": "code",
    "id": "98ap5BjS4EU2",
    "outputId": "41b17e47-661a-4748-b5ee-c94b34ef5109"
   },
   "outputs": [
    {
     "data": {
      "text/plain": [
       "['No. 07-55574.']"
      ]
     },
     "execution_count": 118,
     "metadata": {
      "tags": []
     },
     "output_type": "execute_result"
    }
   ],
   "source": [
    "case_id"
   ]
  },
  {
   "cell_type": "code",
   "execution_count": null,
   "metadata": {
    "colab": {
     "autoexec": {
      "startup": false,
      "wait_interval": 0
     }
    },
    "colab_type": "code",
    "id": "uWSOjd_c4EU5",
    "outputId": "5c2ec3a8-0225-4d10-be06-eb917125a473"
   },
   "outputs": [
    {
     "name": "stdout",
     "output_type": "stream",
     "text": [
      "Bruce Alan MORTON, Plaintiff-Appellant,\n",
      "v.\n",
      "James HALL, e/s/a Jim Hall; Vincent Anderson; Christy Hale; Richard Howell; Albert Luna, Defendants-Appellees.\n"
     ]
    }
   ],
   "source": [
    "case_name = []\n",
    "for lines in center_content:\n",
    "    try:\n",
    "        h1_tags = lines.find(\"h1\")\n",
    "        if h1_tags:\n",
    "            print h1_tags.get_text()\n",
    "            names = h1_tags.get_text().encode(\"utf-8\")\n",
    "            case_name.append(names)\n",
    "    except:\n",
    "        print \"Some Error\""
   ]
  },
  {
   "cell_type": "code",
   "execution_count": null,
   "metadata": {
    "colab": {
     "autoexec": {
      "startup": false,
      "wait_interval": 0
     }
    },
    "colab_type": "code",
    "id": "8dnKdOPW4EU8",
    "outputId": "22bc3f56-0743-40a1-a035-d9e1c6ab1e25"
   },
   "outputs": [
    {
     "data": {
      "text/plain": [
       "['Bruce Alan MORTON, Plaintiff-Appellant,\\nv.\\nJames HALL, e/s/a Jim Hall; Vincent Anderson; Christy Hale; Richard Howell; Albert Luna, Defendants-Appellees.']"
      ]
     },
     "execution_count": 55,
     "metadata": {
      "tags": []
     },
     "output_type": "execute_result"
    }
   ],
   "source": [
    "case_name"
   ]
  },
  {
   "cell_type": "code",
   "execution_count": null,
   "metadata": {
    "colab": {
     "autoexec": {
      "startup": false,
      "wait_interval": 0
     }
    },
    "colab_type": "code",
    "id": "R_y271GZ4EVA",
    "outputId": "9074f33c-084b-4a1e-863e-8a6c2a0bd1da"
   },
   "outputs": [
    {
     "name": "stdout",
     "output_type": "stream",
     "text": [
      "599\n",
      "Oops!\n",
      "Oops!\n",
      "Oops!\n",
      "Oops!\n",
      "Oops!\n"
     ]
    }
   ],
   "source": [
    "current_doc_citation = []\n",
    "for lines in center_content:\n",
    "    try:\n",
    "        citation_volume = lines.find(class_=\"volume\")\n",
    "        print citation_volume.get_text()\n",
    "        citations = citation_volume.get_text().encode(\"utf-8\")\n",
    "        current_doc_citation.append(citations)\n",
    "    except:\n",
    "        print \"Oops!\""
   ]
  },
  {
   "cell_type": "code",
   "execution_count": null,
   "metadata": {
    "colab": {
     "autoexec": {
      "startup": false,
      "wait_interval": 0
     }
    },
    "colab_type": "code",
    "id": "MiHhy3Dy4EVD",
    "outputId": "5e8c3a94-b48e-4280-c111-dd36814f4601"
   },
   "outputs": [
    {
     "data": {
      "text/plain": [
       "['599']"
      ]
     },
     "execution_count": 61,
     "metadata": {
      "tags": []
     },
     "output_type": "execute_result"
    }
   ],
   "source": [
    "current_doc_citation"
   ]
  },
  {
   "cell_type": "markdown",
   "metadata": {
    "colab_type": "text",
    "id": "svpUMNmD4EVF"
   },
   "source": [
    "## Find all the class tags with value='citation' to get the cited document `id`, `link`, `name`"
   ]
  },
  {
   "cell_type": "code",
   "execution_count": null,
   "metadata": {
    "colab": {
     "autoexec": {
      "startup": false,
      "wait_interval": 0
     }
    },
    "colab_type": "code",
    "id": "UGNflwV54EVG",
    "outputId": "5579d4a7-0a25-4232-f499-93aee2003fd8"
   },
   "outputs": [
    {
     "name": "stdout",
     "output_type": "stream",
     "text": [
      "error\n",
      "error\n"
     ]
    }
   ],
   "source": [
    "opinions_cited_id = []\n",
    "opinions_cited_links = []\n",
    "\n",
    "citation_tags = soup.find_all(class_='citation')\n",
    "\n",
    "for lines in citation_tags:\n",
    "    #print lines\n",
    "    try:\n",
    "        data_id = lines[\"data-id\"].encode(\"utf-8\")\n",
    "        #print data_id\n",
    "        links = lines.a['href'].encode(\"utf-8\")\n",
    "        \n",
    "        opinions_cited_id.append(data_id)\n",
    "        opinions_cited_links.append(links)\n",
    "    except:\n",
    "        print \"error\"\n",
    "\n",
    "# Include only unique ids in the list\n",
    "opinions_cited_id = list(set(opinions_cited_id))\n",
    "opinions_cited_links = list(set(opinions_cited_links))"
   ]
  },
  {
   "cell_type": "code",
   "execution_count": null,
   "metadata": {
    "colab": {
     "autoexec": {
      "startup": false,
      "wait_interval": 0
     }
    },
    "colab_type": "code",
    "id": "61_3slvi4EVJ",
    "outputId": "42d780b7-514b-4a91-e99c-bebf69838e6b"
   },
   "outputs": [
    {
     "name": "stdout",
     "output_type": "stream",
     "text": [
      "['781335', '145763', '765065', '780452', '118434', '1433946']\n",
      "['/opinion/765065/macarthur-rumbles-v-donald-r-hill-black-and-beckett/', '/opinion/118434/booth-v-churner/', '/opinion/145763/jones-v-bock/', '/opinion/780452/earl-wayne-wyatt-v-cal-a-terhune-suzan-hubbard-warden/', '/opinion/781335/burlington-northern-santa-fe-railroad-company-a-delaware-corporation-v/', '/opinion/1433946/griffin-v-arpaio/']\n"
     ]
    }
   ],
   "source": [
    "print opinions_cited_id\n",
    "print opinions_cited_links"
   ]
  },
  {
   "cell_type": "code",
   "execution_count": null,
   "metadata": {
    "colab": {
     "autoexec": {
      "startup": false,
      "wait_interval": 0
     }
    },
    "colab_type": "code",
    "id": "ByEUR5mn4EVN",
    "outputId": "cee81bd2-8711-4462-f349-f99ebb93c168"
   },
   "outputs": [
    {
     "name": "stdout",
     "output_type": "stream",
     "text": [
      "see\n",
      "see\n",
      "griffin v. arpaio,\n",
      "burlington n. santa fe r.r. co. v. assiniboine & sioux tribes of the fort peck reservation,\n",
      "booth v. churner,\n",
      "id.\n",
      "booth\n",
      "Booth\n",
      "wyatt v. terhune,\n",
      "jones v. bock,\n",
      "griffin,\n",
      "id.\n",
      "see\n",
      "rumbles v. hill,\n",
      "lunsford v. jumao-as,\n"
     ]
    }
   ],
   "source": [
    "# opinions_cited_names = []\n",
    "# citation_names = soup.find_all(\"i\")\n",
    "# for contents in citation_names:\n",
    "#     names = contents.get_text().encode(\"utf-8\")\n",
    "#     print names.lower()\n",
    "#     for links in opinions_cited_links:\n",
    "#         if names.lower() in links:\n",
    "#             print names\n",
    "#             opinions_cited_names.append(names)"
   ]
  },
  {
   "cell_type": "code",
   "execution_count": null,
   "metadata": {
    "colab": {
     "autoexec": {
      "startup": false,
      "wait_interval": 0
     }
    },
    "colab_type": "code",
    "id": "rHMv3tBX4EVQ"
   },
   "outputs": [],
   "source": [
    "# Store them as csv\n",
    "dataset_dict = {}\n",
    "dataset_dict[\"Case_ID\"] = case_id\n",
    "dataset_dict[\"Case_Name\"] = case_name\n",
    "dataset_dict[\"Opinions_cited\"] = opinions_cited_id\n",
    "dataset_dict[\"Opinions_links\"] = opinions_cited_links"
   ]
  },
  {
   "cell_type": "code",
   "execution_count": null,
   "metadata": {
    "colab": {
     "autoexec": {
      "startup": false,
      "wait_interval": 0
     }
    },
    "colab_type": "code",
    "id": "y_qX9rtO4EVS",
    "outputId": "85169ea5-90f7-4347-f0e4-3df946c54bf0"
   },
   "outputs": [
    {
     "data": {
      "text/plain": [
       "{'Case_ID': ['No. 07-55574.'],\n",
       " 'Case_Name': ['Bruce Alan MORTON, Plaintiff-Appellant,\\nv.\\nJames HALL, e/s/a Jim Hall; Vincent Anderson; Christy Hale; Richard Howell; Albert Luna, Defendants-Appellees.'],\n",
       " 'Opinions_cited': ['781335',\n",
       "  '145763',\n",
       "  '765065',\n",
       "  '780452',\n",
       "  '118434',\n",
       "  '1433946'],\n",
       " 'Opinions_links': ['/opinion/765065/macarthur-rumbles-v-donald-r-hill-black-and-beckett/',\n",
       "  '/opinion/118434/booth-v-churner/',\n",
       "  '/opinion/145763/jones-v-bock/',\n",
       "  '/opinion/780452/earl-wayne-wyatt-v-cal-a-terhune-suzan-hubbard-warden/',\n",
       "  '/opinion/781335/burlington-northern-santa-fe-railroad-company-a-delaware-corporation-v/',\n",
       "  '/opinion/1433946/griffin-v-arpaio/']}"
      ]
     },
     "execution_count": 122,
     "metadata": {
      "tags": []
     },
     "output_type": "execute_result"
    }
   ],
   "source": [
    "dataset_dict"
   ]
  },
  {
   "cell_type": "markdown",
   "metadata": {
    "colab_type": "text",
    "id": "_jeDxwWZ4EVZ"
   },
   "source": [
    "## Storing as JSON"
   ]
  },
  {
   "cell_type": "code",
   "execution_count": null,
   "metadata": {
    "colab": {
     "autoexec": {
      "startup": false,
      "wait_interval": 0
     }
    },
    "colab_type": "code",
    "id": "f4V5ex3-4EVZ"
   },
   "outputs": [],
   "source": [
    "with open(\"dataset.json\", 'w') as js_file:\n",
    "    json.dump(dataset_dict, js_file, indent=4, sort_keys=True)"
   ]
  },
  {
   "cell_type": "markdown",
   "metadata": {
    "colab_type": "text",
    "id": "z7Lchhsv5ouo"
   },
   "source": [
    "## Functions for automating scraping"
   ]
  },
  {
   "cell_type": "code",
   "execution_count": 10,
   "metadata": {
    "colab": {
     "autoexec": {
      "startup": false,
      "wait_interval": 0
     }
    },
    "colab_type": "code",
    "id": "dsAORJUJ58x7"
   },
   "outputs": [],
   "source": [
    "def open_json(filename):\n",
    "    with open(filename) as json_file:\n",
    "        content = json.load(json_file)\n",
    "  \n",
    "    return content\n"
   ]
  },
  {
   "cell_type": "code",
   "execution_count": 11,
   "metadata": {
    "colab": {
     "autoexec": {
      "startup": false,
      "wait_interval": 0
     }
    },
    "colab_type": "code",
    "id": "d_nVI5l_6hwN"
   },
   "outputs": [],
   "source": [
    "def get_html_content(json_content):\n",
    "    html_content = json_content.get(\"html_with_citations\")\n",
    "    soup = BeautifulSoup(html_content, 'html.parser')\n",
    "  \n",
    "    return soup"
   ]
  },
  {
   "cell_type": "code",
   "execution_count": 13,
   "metadata": {
    "colab": {
     "autoexec": {
      "startup": false,
      "wait_interval": 0
     }
    },
    "colab_type": "code",
    "id": "eCwjHXKC6_lK"
   },
   "outputs": [],
   "source": [
    "def get_case_details(soup):\n",
    "  # Get center tags for case id and case names\n",
    "  center_tags = soup.find_all(\"center\")\n",
    "  \n",
    "  for lines in center_tags:\n",
    "    # print lines.get_text()\n",
    "    try:\n",
    "        if \"No.\" in lines.get_text():\n",
    "            # print lines\n",
    "            case_id = lines.get_text().encode(\"utf-8\")\n",
    "        \n",
    "        h1_tags = lines.find(\"h1\") # For case names\n",
    "        if h1_tags:\n",
    "            # print h1_tags.get_text()\n",
    "            names = h1_tags.get_text().encode(\"utf-8\")\n",
    "            case_name = names\n",
    "    except:\n",
    "        case_id = \"Not Found\"\n",
    "  \n",
    "  return case_id, case_name"
   ]
  },
  {
   "cell_type": "code",
   "execution_count": 7,
   "metadata": {
    "colab": {
     "autoexec": {
      "startup": false,
      "wait_interval": 0
     }
    },
    "colab_type": "code",
    "id": "4UVVY8uc8hEF"
   },
   "outputs": [],
   "source": [
    "def get_citation_details(soup):\n",
    "  \n",
    "    opinions_cited_id = []\n",
    "    opinions_cited_links = []\n",
    "\n",
    "    citation_tags = soup.find_all(class_='citation')\n",
    "\n",
    "    for lines in citation_tags:\n",
    "      #print lines\n",
    "        try:\n",
    "            data_id = lines[\"data-id\"].encode(\"utf-8\")\n",
    "            links = lines.a['href'].encode(\"utf-8\")\n",
    "\n",
    "            opinions_cited_id.append(data_id)\n",
    "            opinions_cited_links.append(links)\n",
    "        except:\n",
    "            print \"error\"\n",
    "\n",
    "    # Include only unique ids in the list\n",
    "    opinions_cited_id = list(set(opinions_cited_id))\n",
    "    opinions_cited_links = list(set(opinions_cited_links))\n",
    "\n",
    "    return opinions_cited_id, opinions_cited_links"
   ]
  },
  {
   "cell_type": "markdown",
   "metadata": {},
   "source": [
    "## Use the below code to store scraped data as CSV"
   ]
  },
  {
   "cell_type": "code",
   "execution_count": 15,
   "metadata": {
    "colab": {
     "autoexec": {
      "startup": false,
      "wait_interval": 0
     },
     "base_uri": "https://localhost:8080/",
     "height": 351
    },
    "colab_type": "code",
    "executionInfo": {
     "elapsed": 440,
     "status": "error",
     "timestamp": 1523270285670,
     "user": {
      "displayName": "Shashank Rao",
      "photoUrl": "//lh4.googleusercontent.com/-w4u0d1yteqc/AAAAAAAAAAI/AAAAAAAAADs/ZgtaYYuDce4/s50-c-k-no/photo.jpg",
      "userId": "114201402767522821733"
     },
     "user_tz": -120
    },
    "id": "VSFMrtHr5sfD",
    "outputId": "ff05e4dc-26dc-4ffa-9e53-b145ab001b79"
   },
   "outputs": [
    {
     "name": "stdout",
     "output_type": "stream",
     "text": [
      "Extracting file : 85.json\n",
      "error\n",
      "error\n",
      "Extracting file : 118434.json\n",
      "error\n",
      "error\n",
      "error\n",
      "error\n",
      "error\n",
      "error\n",
      "error\n",
      "error\n",
      "error\n",
      "error\n"
     ]
    }
   ],
   "source": [
    "dataset_dict = {}\n",
    "\n",
    "case_id = []\n",
    "case_name = []\n",
    "opinion_id = []\n",
    "opinion_link = []\n",
    "\n",
    "for files in filename:\n",
    "    print \"Extracting file : {}\".format(files)\n",
    "    content = open_json(files)\n",
    "    soup = get_html_content(content)\n",
    "    case_id_str, case_name_str = get_case_details(soup)\n",
    "    case_id.append(case_id_str)\n",
    "    case_name.append(case_name_str)\n",
    "  \n",
    "    opinions_cited_id, opinions_cited_links = get_citation_details(soup)\n",
    "\n",
    "    opinion_id.append(opinions_cited_id)\n",
    "    opinion_link.append(opinions_cited_links)\n",
    "\n",
    "# Store to dict\n",
    "dataset_dict[\"Case_ID\"] = case_id\n",
    "dataset_dict[\"Case_Name\"] = case_name\n",
    "dataset_dict[\"Opinions_cited\"] = opinion_id\n",
    "dataset_dict[\"Opinions_links\"] = opinion_link\n",
    "  \n",
    "# Convert to DataFrame\n",
    "df = pd.DataFrame(dataset_dict)\n",
    "\n",
    "# Store as csv\n",
    "df.to_csv(\"dataset.csv\", index=None)"
   ]
  },
  {
   "cell_type": "markdown",
   "metadata": {},
   "source": [
    "## Use the below code to store the scraped data as JSON"
   ]
  },
  {
   "cell_type": "code",
   "execution_count": 20,
   "metadata": {
    "colab": {
     "autoexec": {
      "startup": false,
      "wait_interval": 0
     }
    },
    "colab_type": "code",
    "id": "Fy4nCAZg-_b2"
   },
   "outputs": [
    {
     "name": "stdout",
     "output_type": "stream",
     "text": [
      "Extracting file : 85.json\n",
      "error\n",
      "error\n",
      "Extracting file : 118434.json\n",
      "error\n",
      "error\n",
      "error\n",
      "error\n",
      "error\n",
      "error\n",
      "error\n",
      "error\n",
      "error\n",
      "error\n"
     ]
    }
   ],
   "source": [
    "dataset_list = []\n",
    "\n",
    "for files in filename:\n",
    "    print \"Extracting file : {}\".format(files)\n",
    "    content = open_json(files)\n",
    "    soup = get_html_content(content)\n",
    "    case_id_str, case_name_str = get_case_details(soup)\n",
    "    # case_id.append(case_id_str)\n",
    "    # case_name.append(case_name_str)\n",
    "  \n",
    "    opinions_cited_id, opinions_cited_links = get_citation_details(soup)\n",
    "\n",
    "    # opinion_id.append(opinions_cited_id)\n",
    "    # opinion_link.append(opinions_cited_links)\n",
    "\n",
    "    # Store to dict\n",
    "    dataset_dict = {}\n",
    "    dataset_dict[\"Case_ID\"] = case_id_str\n",
    "    dataset_dict[\"Case_Name\"] = case_name_str\n",
    "    dataset_dict[\"Opinions_cited\"] = opinions_cited_id\n",
    "    dataset_dict[\"Opinions_links\"] = opinions_cited_links\n",
    "  \n",
    "    dataset_list.append(dataset_dict)\n",
    "\n",
    "# Store as JSON\n",
    "with open(\"dataset.json\", 'w') as js_file:\n",
    "    json.dump(dataset_list, js_file, indent=4, sort_keys=True)"
   ]
  },
  {
   "cell_type": "code",
   "execution_count": null,
   "metadata": {},
   "outputs": [],
   "source": []
  }
 ],
 "metadata": {
  "colab": {
   "default_view": {},
   "name": "Law_Scraper.ipynb",
   "provenance": [],
   "toc_visible": true,
   "version": "0.3.2",
   "views": {}
  },
  "kernelspec": {
   "display_name": "Python 2",
   "language": "python",
   "name": "python2"
  },
  "language_info": {
   "codemirror_mode": {
    "name": "ipython",
    "version": 2
   },
   "file_extension": ".py",
   "mimetype": "text/x-python",
   "name": "python",
   "nbconvert_exporter": "python",
   "pygments_lexer": "ipython2",
   "version": "2.7.14"
  }
 },
 "nbformat": 4,
 "nbformat_minor": 2
}
